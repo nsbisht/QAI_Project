{
 "cells": [
  {
   "cell_type": "code",
   "execution_count": 1,
   "metadata": {},
   "outputs": [],
   "source": [
    "import numpy as np"
   ]
  },
  {
   "cell_type": "code",
   "execution_count": 2,
   "metadata": {},
   "outputs": [],
   "source": [
    "zero_x = np.zeros((4,4))\n",
    "cz = np.eye(4)\n",
    "h2 = np.ones((4,4))"
   ]
  },
  {
   "cell_type": "code",
   "execution_count": 3,
   "metadata": {},
   "outputs": [
    {
     "data": {
      "text/plain": [
       "array([[0., 1., 0., 0.],\n",
       "       [1., 0., 0., 0.],\n",
       "       [0., 0., 0., 1.],\n",
       "       [0., 0., 1., 0.]])"
      ]
     },
     "execution_count": 3,
     "metadata": {},
     "output_type": "execute_result"
    }
   ],
   "source": [
    "zero_x[0,1] = 1\n",
    "zero_x[1,0] = 1\n",
    "zero_x[2,3] = 1\n",
    "zero_x[3,2] = 1\n",
    "zero_x"
   ]
  },
  {
   "cell_type": "code",
   "execution_count": 4,
   "metadata": {},
   "outputs": [
    {
     "data": {
      "text/plain": [
       "array([[ 1.,  0.,  0.,  0.],\n",
       "       [ 0.,  1.,  0.,  0.],\n",
       "       [ 0.,  0.,  1.,  0.],\n",
       "       [ 0.,  0.,  0., -1.]])"
      ]
     },
     "execution_count": 4,
     "metadata": {},
     "output_type": "execute_result"
    }
   ],
   "source": [
    "cz[3,3] = -1\n",
    "cz"
   ]
  },
  {
   "cell_type": "code",
   "execution_count": 5,
   "metadata": {
    "scrolled": true
   },
   "outputs": [
    {
     "data": {
      "text/plain": [
       "array([[ 0.70710678,  0.70710678,  0.70710678,  0.70710678],\n",
       "       [ 0.70710678, -0.70710678,  0.70710678, -0.70710678],\n",
       "       [ 0.70710678,  0.70710678, -0.70710678, -0.70710678],\n",
       "       [ 0.70710678, -0.70710678, -0.70710678,  0.70710678]])"
      ]
     },
     "execution_count": 5,
     "metadata": {},
     "output_type": "execute_result"
    }
   ],
   "source": [
    "h2[1,3] = -1\n",
    "h2[1,1] = -1\n",
    "h2[2,2] = -1\n",
    "h2[2,3] = -1\n",
    "h2[3,1] = -1\n",
    "h2[3,2] = -1\n",
    "h2 = (1/(np.sqrt(2))) * h2\n",
    "h2"
   ]
  },
  {
   "cell_type": "markdown",
   "metadata": {},
   "source": [
    "Our U = h2.zero_x.cz.zero_x.h2.zero_x.cz.zero_x"
   ]
  },
  {
   "cell_type": "code",
   "execution_count": 6,
   "metadata": {},
   "outputs": [
    {
     "data": {
      "text/plain": [
       "array([[ 1., -1.,  1.,  1.],\n",
       "       [-1.,  1.,  1.,  1.],\n",
       "       [ 1.,  1.,  1., -1.],\n",
       "       [ 1.,  1., -1.,  1.]])"
      ]
     },
     "execution_count": 6,
     "metadata": {},
     "output_type": "execute_result"
    }
   ],
   "source": [
    "U1 = np.dot(h2, zero_x)\n",
    "U2 = np.dot(U1, cz)\n",
    "U3 = np.dot(U2, zero_x)\n",
    "U4 = np.dot(U3, h2)\n",
    "U4"
   ]
  },
  {
   "cell_type": "code",
   "execution_count": 7,
   "metadata": {},
   "outputs": [
    {
     "data": {
      "text/plain": [
       "array([[ 0],\n",
       "       [-1],\n",
       "       [ 0],\n",
       "       [ 0]])"
      ]
     },
     "execution_count": 7,
     "metadata": {},
     "output_type": "execute_result"
    }
   ],
   "source": [
    "input_qubit = (-1) * np.array([[0], [1], [0], [0]])\n",
    "input_qubit"
   ]
  },
  {
   "cell_type": "code",
   "execution_count": 8,
   "metadata": {},
   "outputs": [
    {
     "data": {
      "text/plain": [
       "array([[ 1.],\n",
       "       [-1.],\n",
       "       [-1.],\n",
       "       [-1.]])"
      ]
     },
     "execution_count": 8,
     "metadata": {},
     "output_type": "execute_result"
    }
   ],
   "source": [
    "result = np.dot(U4, input_qubit)\n",
    "result"
   ]
  },
  {
   "cell_type": "code",
   "execution_count": 9,
   "metadata": {},
   "outputs": [
    {
     "data": {
      "text/plain": [
       "array([[0., 0., 0., 1.],\n",
       "       [0., 0., 1., 0.],\n",
       "       [0., 1., 0., 0.],\n",
       "       [1., 0., 0., 0.]])"
      ]
     },
     "execution_count": 9,
     "metadata": {},
     "output_type": "execute_result"
    }
   ],
   "source": [
    "x2 = np.zeros((4,4))\n",
    "x2[0,3] = 1\n",
    "x2[1,2] = 1\n",
    "x2[2,1] = 1\n",
    "x2[3,0] = 1\n",
    "x2"
   ]
  },
  {
   "cell_type": "code",
   "execution_count": 10,
   "metadata": {},
   "outputs": [
    {
     "data": {
      "text/plain": [
       "array([[ 1., -1., -1., -1.],\n",
       "       [-1.,  1., -1., -1.],\n",
       "       [-1., -1.,  1., -1.],\n",
       "       [-1., -1., -1.,  1.]])"
      ]
     },
     "execution_count": 10,
     "metadata": {},
     "output_type": "execute_result"
    }
   ],
   "source": [
    "U1 = np.dot(h2, x2)\n",
    "U2 = np.dot(U1, cz)\n",
    "U3 = np.dot(U2, x2)\n",
    "U4 = np.dot(U3, h2)\n",
    "U4"
   ]
  },
  {
   "cell_type": "code",
   "execution_count": 11,
   "metadata": {},
   "outputs": [
    {
     "data": {
      "text/plain": [
       "array([[ 1.],\n",
       "       [-1.],\n",
       "       [ 1.],\n",
       "       [ 1.]])"
      ]
     },
     "execution_count": 11,
     "metadata": {},
     "output_type": "execute_result"
    }
   ],
   "source": [
    "result = np.dot(U4, input_qubit)\n",
    "result"
   ]
  },
  {
   "cell_type": "code",
   "execution_count": 12,
   "metadata": {},
   "outputs": [],
   "source": [
    "def oracle(input_qubit):\n",
    "    zero_x = np.zeros((4,4))\n",
    "    cz = np.eye(4)\n",
    "    cz[3,3] = -1\n",
    "    zero_x[0,1] = 1\n",
    "    zero_x[1,0] = 1\n",
    "    zero_x[2,3] = 1\n",
    "    zero_x[3,2] = 1\n",
    "    input_qubit = np.dot(zero_x, input_qubit)\n",
    "    input_qubit = np.dot(cz, input_qubit)\n",
    "    input_qubit = np.dot(zero_x, input_qubit)\n",
    "    return(input_qubit)"
   ]
  },
  {
   "cell_type": "code",
   "execution_count": 13,
   "metadata": {},
   "outputs": [],
   "source": [
    "def hadamard(input_qubit):\n",
    "    h2 = np.ones((4,4))\n",
    "    h2[1,3] = -1\n",
    "    h2[1,1] = -1\n",
    "    h2[2,2] = -1\n",
    "    h2[2,3] = -1\n",
    "    h2[3,1] = -1\n",
    "    h2[3,2] = -1\n",
    "    h2 = (1/(np.sqrt(2))) * h2\n",
    "    return(np.dot(h2, input_qubit))"
   ]
  },
  {
   "cell_type": "code",
   "execution_count": 14,
   "metadata": {},
   "outputs": [],
   "source": [
    "def diffuser(input_qubit):\n",
    "    cz = np.eye(4)\n",
    "    cz[3,3] = -1\n",
    "    h2 = np.ones((4,4))\n",
    "    h2[1,3] = -1\n",
    "    h2[1,1] = -1\n",
    "    h2[2,2] = -1\n",
    "    h2[2,3] = -1\n",
    "    h2[3,1] = -1\n",
    "    h2[3,2] = -1\n",
    "    h2 = (1/(np.sqrt(2))) * h2\n",
    "    x2 = np.zeros((4,4))\n",
    "    x2[0,1] = 1\n",
    "    x2[1,0] = 1\n",
    "    x2[2,3] = 1\n",
    "    x2[3,2] = 1\n",
    "    input_qubit = np.dot(h2, input_qubit)\n",
    "    input_qubit = np.dot(x2, input_qubit)\n",
    "    input_qubit = np.dot(cz, input_qubit)\n",
    "    input_qubit = np.dot(x2, input_qubit)\n",
    "    input_qubit = np.dot(h2, input_qubit)\n",
    "    return(input_qubit)"
   ]
  },
  {
   "cell_type": "code",
   "execution_count": 15,
   "metadata": {},
   "outputs": [
    {
     "data": {
      "text/plain": [
       "array([[-0.70710678],\n",
       "       [ 0.70710678],\n",
       "       [-0.70710678],\n",
       "       [ 0.70710678]])"
      ]
     },
     "execution_count": 15,
     "metadata": {},
     "output_type": "execute_result"
    }
   ],
   "source": [
    "level_1 = hadamard(input_qubit)\n",
    "level_1"
   ]
  },
  {
   "cell_type": "code",
   "execution_count": 16,
   "metadata": {},
   "outputs": [
    {
     "data": {
      "text/plain": [
       "array([[-0.70710678],\n",
       "       [ 0.70710678],\n",
       "       [ 0.70710678],\n",
       "       [ 0.70710678]])"
      ]
     },
     "execution_count": 16,
     "metadata": {},
     "output_type": "execute_result"
    }
   ],
   "source": [
    "level_2 = oracle(level_1)\n",
    "level_2"
   ]
  },
  {
   "cell_type": "code",
   "execution_count": 17,
   "metadata": {},
   "outputs": [
    {
     "data": {
      "text/plain": [
       "array([[ 1.11022302e-16],\n",
       "       [ 2.82842712e+00],\n",
       "       [-1.11022302e-16],\n",
       "       [ 1.11022302e-16]])"
      ]
     },
     "execution_count": 17,
     "metadata": {},
     "output_type": "execute_result"
    }
   ],
   "source": [
    "output = diffuser(level_2)\n",
    "output"
   ]
  },
  {
   "cell_type": "code",
   "execution_count": null,
   "metadata": {},
   "outputs": [],
   "source": []
  }
 ],
 "metadata": {
  "kernelspec": {
   "display_name": "Python 3",
   "language": "python",
   "name": "python3"
  },
  "language_info": {
   "codemirror_mode": {
    "name": "ipython",
    "version": 3
   },
   "file_extension": ".py",
   "mimetype": "text/x-python",
   "name": "python",
   "nbconvert_exporter": "python",
   "pygments_lexer": "ipython3",
   "version": "3.8.3"
  }
 },
 "nbformat": 4,
 "nbformat_minor": 4
}

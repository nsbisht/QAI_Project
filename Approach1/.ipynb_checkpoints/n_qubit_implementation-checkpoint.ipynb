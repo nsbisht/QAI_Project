{
 "cells": [
  {
   "cell_type": "code",
   "execution_count": 1,
   "metadata": {},
   "outputs": [],
   "source": [
    "#initialization\n",
    "import matplotlib.pyplot as plt\n",
    "import numpy as np\n",
    "\n",
    "# importing Qiskit\n",
    "from qiskit import IBMQ, Aer, assemble, transpile\n",
    "from qiskit import QuantumCircuit, ClassicalRegister, QuantumRegister\n",
    "from qiskit.providers.ibmq import least_busy\n",
    "\n",
    "# import basic plot tools\n",
    "from qiskit.visualization import plot_histogram"
   ]
  },
  {
   "cell_type": "code",
   "execution_count": 2,
   "metadata": {},
   "outputs": [],
   "source": [
    "from math import *"
   ]
  },
  {
   "cell_type": "code",
   "execution_count": 3,
   "metadata": {},
   "outputs": [],
   "source": [
    "def initialize_s(qc, qubits):\n",
    "    \"\"\"Apply a H-gate to 'qubits' in qc\"\"\"\n",
    "    for q in qubits:\n",
    "        qc.h(q)\n",
    "    return qc"
   ]
  },
  {
   "cell_type": "markdown",
   "metadata": {},
   "source": [
    "# Oracle"
   ]
  },
  {
   "cell_type": "code",
   "execution_count": 4,
   "metadata": {},
   "outputs": [],
   "source": [
    "def oracle(grover_circuit, find_me):\n",
    "    find_me = find_me[::-1]\n",
    "    print(find_me)\n",
    "    for i in range(len(find_me)):\n",
    "        if find_me[i] == '0':\n",
    "            grover_circuit.x(i)\n",
    "        else:\n",
    "            pass\n",
    "    #cccz begin\n",
    "    grover_circuit.barrier([0, 1, 2,3])\n",
    "    grover_circuit.cp(pi/4, 0, 3)\n",
    "    grover_circuit.cx(0, 1)\n",
    "    grover_circuit.cp(-pi/4, 1, 3)\n",
    "    grover_circuit.cx(0, 1)\n",
    "    grover_circuit.cp(pi/4, 1, 3)\n",
    "    grover_circuit.cx(1, 2)\n",
    "    grover_circuit.cp(-pi/4, 2, 3)\n",
    "    grover_circuit.cx(0, 2)\n",
    "    grover_circuit.cp(pi/4, 2, 3)\n",
    "    grover_circuit.cx(1, 2)\n",
    "    grover_circuit.cp(-pi/4, 2, 3)\n",
    "    grover_circuit.cx(0, 2)\n",
    "    grover_circuit.cp(pi/4, 2, 3)\n",
    "    #cccz end\n",
    "    grover_circuit.barrier([0, 1, 2,3])\n",
    "    for i in range(len(find_me)):\n",
    "        if find_me[i] == '0':\n",
    "            grover_circuit.x(i)\n",
    "            print(i)\n",
    "        else:\n",
    "            pass\n",
    "    return grover_circuit"
   ]
  },
  {
   "cell_type": "code",
   "execution_count": 5,
   "metadata": {},
   "outputs": [
    {
     "name": "stdout",
     "output_type": "stream",
     "text": [
      "0010\n",
      "0\n",
      "1\n",
      "3\n"
     ]
    },
    {
     "data": {
      "text/plain": [
       "<qiskit.circuit.quantumcircuit.QuantumCircuit at 0x17e837595e0>"
      ]
     },
     "execution_count": 5,
     "metadata": {},
     "output_type": "execute_result"
    }
   ],
   "source": [
    "n = 4\n",
    "grover_circuit = QuantumCircuit(n)\n",
    "grover_circuit = initialize_s(grover_circuit, [0,1,2,3])\n",
    "oracle(grover_circuit, '0100')"
   ]
  },
  {
   "cell_type": "code",
   "execution_count": 12,
   "metadata": {},
   "outputs": [],
   "source": [
    "# grover_circuit.measure_all()\n",
    "\n",
    "# qasm_sim = Aer.get_backend('qasm_simulator')\n",
    "# qobj = assemble(grover_circuit)\n",
    "# result = qasm_sim.run(qobj).result()\n",
    "# counts = result.get_counts()\n",
    "# plot_histogram(counts)"
   ]
  },
  {
   "cell_type": "markdown",
   "metadata": {},
   "source": [
    "# Amplification"
   ]
  },
  {
   "cell_type": "code",
   "execution_count": 7,
   "metadata": {},
   "outputs": [],
   "source": [
    "def diffuser(grover_circuit):\n",
    "    grover_circuit.barrier([0, 1, 2,3])\n",
    "    for q in range(4):\n",
    "        grover_circuit.h(q)\n",
    "        grover_circuit.x(q)\n",
    "    #begin cccz\n",
    "    \n",
    "    grover_circuit.barrier([0, 1, 2,3])\n",
    "    grover_circuit.cp(pi/4, 0, 3)\n",
    "    grover_circuit.cx(0, 1)\n",
    "    grover_circuit.cp(-pi/4, 1, 3)\n",
    "    grover_circuit.cx(0, 1)\n",
    "    grover_circuit.cp(pi/4, 1, 3)\n",
    "    grover_circuit.cx(1, 2)\n",
    "    grover_circuit.cp(-pi/4, 2, 3)\n",
    "    grover_circuit.cx(0, 2)\n",
    "    grover_circuit.cp(pi/4, 2, 3)\n",
    "    grover_circuit.cx(1, 2)\n",
    "    grover_circuit.cp(-pi/4, 2, 3)\n",
    "    grover_circuit.cx(0, 2)\n",
    "    grover_circuit.cp(pi/4, 2, 3)\n",
    "    grover_circuit.draw()\n",
    "    #end cccz\n",
    "    grover_circuit.barrier([0, 1, 2,3])\n",
    "    for q in range(4):\n",
    "        grover_circuit.x(q)\n",
    "        grover_circuit.h(q)\n",
    "    return grover_circuit"
   ]
  },
  {
   "cell_type": "code",
   "execution_count": 16,
   "metadata": {},
   "outputs": [],
   "source": [
    "def grover(find_me, no_of_qubits):\n",
    "    n = no_of_qubits\n",
    "    grover_circuit = QuantumCircuit(n)\n",
    "    grover_circuit = initialize_s(grover_circuit, [0,1,2,3])\n",
    "    N = 2**n\n",
    "    k = len(find_me)\n",
    "    r = floor((pi/4)*sqrt(N/k))\n",
    "    \n",
    "    \n",
    "    for num in range(r):\n",
    "        grover_circuit = oracle(grover_circuit, find_me[0])\n",
    "        grover_circuit = oracle(grover_circuit, find_me[1])\n",
    "        grover_circuit = diffuser(grover_circuit)\n",
    "    return grover_circuit   "
   ]
  },
  {
   "cell_type": "code",
   "execution_count": 17,
   "metadata": {},
   "outputs": [
    {
     "name": "stdout",
     "output_type": "stream",
     "text": [
      "0010\n",
      "0\n",
      "1\n",
      "3\n",
      "0011\n",
      "0\n",
      "1\n",
      "0010\n",
      "0\n",
      "1\n",
      "3\n",
      "0011\n",
      "0\n",
      "1\n"
     ]
    },
    {
     "data": {
      "text/html": [
       "<pre style=\"word-wrap: normal;white-space: pre;background: #fff0;line-height: 1.1;font-family: &quot;Courier New&quot;,Courier,monospace\">     ┌───┐┌───┐ ░                                                          »\n",
       "q_0: ┤ H ├┤ X ├─░─────■───────■───────────────■────────────────────────────»\n",
       "     ├───┤├───┤ ░     │     ┌─┴─┐           ┌─┴─┐                          »\n",
       "q_1: ┤ H ├┤ X ├─░─────┼─────┤ X ├─────■─────┤ X ├────■───────■─────────────»\n",
       "     ├───┤└───┘ ░     │     └───┘     │     └───┘    │     ┌─┴─┐           »\n",
       "q_2: ┤ H ├──────░─────┼───────────────┼──────────────┼─────┤ X ├─────■─────»\n",
       "     ├───┤┌───┐ ░ ┌───┴────┐     ┌────┴────┐     ┌───┴────┐└───┘┌────┴────┐»\n",
       "q_3: ┤ H ├┤ X ├─░─┤ P(π/4) ├─────┤ P(-π/4) ├─────┤ P(π/4) ├─────┤ P(-π/4) ├»\n",
       "     └───┘└───┘ ░ └────────┘     └─────────┘     └────────┘     └─────────┘»\n",
       "«                                                    ░ ┌───┐┌───┐ ░           »\n",
       "«q_0: ──■──────────────────────────────■─────────────░─┤ X ├┤ X ├─░─────■─────»\n",
       "«       │                              │             ░ ├───┤├───┤ ░     │     »\n",
       "«q_1: ──┼──────────────■───────────────┼─────────────░─┤ X ├┤ X ├─░─────┼─────»\n",
       "«     ┌─┴─┐          ┌─┴─┐           ┌─┴─┐           ░ └───┘└───┘ ░     │     »\n",
       "«q_2: ┤ X ├────■─────┤ X ├─────■─────┤ X ├────■──────░────────────░─────┼─────»\n",
       "«     └───┘┌───┴────┐└───┘┌────┴────┐└───┘┌───┴────┐ ░ ┌───┐      ░ ┌───┴────┐»\n",
       "«q_3: ─────┤ P(π/4) ├─────┤ P(-π/4) ├─────┤ P(π/4) ├─░─┤ X ├──────░─┤ P(π/4) ├»\n",
       "«          └────────┘     └─────────┘     └────────┘ ░ └───┘      ░ └────────┘»\n",
       "«                                                                        »\n",
       "«q_0: ──■───────────────■──────────────────────────────■─────────────────»\n",
       "«     ┌─┴─┐           ┌─┴─┐                            │                 »\n",
       "«q_1: ┤ X ├─────■─────┤ X ├────■───────■───────────────┼──────────────■──»\n",
       "«     └───┘     │     └───┘    │     ┌─┴─┐           ┌─┴─┐          ┌─┴─┐»\n",
       "«q_2: ──────────┼──────────────┼─────┤ X ├─────■─────┤ X ├────■─────┤ X ├»\n",
       "«          ┌────┴────┐     ┌───┴────┐└───┘┌────┴────┐└───┘┌───┴────┐└───┘»\n",
       "«q_3: ─────┤ P(-π/4) ├─────┤ P(π/4) ├─────┤ P(-π/4) ├─────┤ P(π/4) ├─────»\n",
       "«          └─────────┘     └────────┘     └─────────┘     └────────┘     »\n",
       "«                                ░ ┌───┐ ░ ┌───┐┌───┐ ░                »\n",
       "«q_0: ─────────────■─────────────░─┤ X ├─░─┤ H ├┤ X ├─░─────■───────■──»\n",
       "«                  │             ░ ├───┤ ░ ├───┤├───┤ ░     │     ┌─┴─┐»\n",
       "«q_1: ─────────────┼─────────────░─┤ X ├─░─┤ H ├┤ X ├─░─────┼─────┤ X ├»\n",
       "«                ┌─┴─┐           ░ └───┘ ░ ├───┤├───┤ ░     │     └───┘»\n",
       "«q_2: ─────■─────┤ X ├────■──────░───────░─┤ H ├┤ X ├─░─────┼──────────»\n",
       "«     ┌────┴────┐└───┘┌───┴────┐ ░       ░ ├───┤├───┤ ░ ┌───┴────┐     »\n",
       "«q_3: ┤ P(-π/4) ├─────┤ P(π/4) ├─░───────░─┤ H ├┤ X ├─░─┤ P(π/4) ├─────»\n",
       "«     └─────────┘     └────────┘ ░       ░ └───┘└───┘ ░ └────────┘     »\n",
       "«                                                                              »\n",
       "«q_0: ─────────────■──────────────────────────────■────────────────────────────»\n",
       "«                ┌─┴─┐                            │                            »\n",
       "«q_1: ─────■─────┤ X ├────■───────■───────────────┼──────────────■─────────────»\n",
       "«          │     └───┘    │     ┌─┴─┐           ┌─┴─┐          ┌─┴─┐           »\n",
       "«q_2: ─────┼──────────────┼─────┤ X ├─────■─────┤ X ├────■─────┤ X ├─────■─────»\n",
       "«     ┌────┴────┐     ┌───┴────┐└───┘┌────┴────┐└───┘┌───┴────┐└───┘┌────┴────┐»\n",
       "«q_3: ┤ P(-π/4) ├─────┤ P(π/4) ├─────┤ P(-π/4) ├─────┤ P(π/4) ├─────┤ P(-π/4) ├»\n",
       "«     └─────────┘     └────────┘     └─────────┘     └────────┘     └─────────┘»\n",
       "«                     ░ ┌───┐┌───┐┌───┐ ░                                »\n",
       "«q_0: ──■─────────────░─┤ X ├┤ H ├┤ X ├─░─────■───────■───────────────■──»\n",
       "«       │             ░ ├───┤├───┤├───┤ ░     │     ┌─┴─┐           ┌─┴─┐»\n",
       "«q_1: ──┼─────────────░─┤ X ├┤ H ├┤ X ├─░─────┼─────┤ X ├─────■─────┤ X ├»\n",
       "«     ┌─┴─┐           ░ ├───┤├───┤└───┘ ░     │     └───┘     │     └───┘»\n",
       "«q_2: ┤ X ├────■──────░─┤ X ├┤ H ├──────░─────┼───────────────┼──────────»\n",
       "«     └───┘┌───┴────┐ ░ ├───┤├───┤┌───┐ ░ ┌───┴────┐     ┌────┴────┐     »\n",
       "«q_3: ─────┤ P(π/4) ├─░─┤ X ├┤ H ├┤ X ├─░─┤ P(π/4) ├─────┤ P(-π/4) ├─────»\n",
       "«          └────────┘ ░ └───┘└───┘└───┘ ░ └────────┘     └─────────┘     »\n",
       "«                                                                             »\n",
       "«q_0: ────────────────────────────■──────────────────────────────■────────────»\n",
       "«                                 │                              │            »\n",
       "«q_1: ────■───────■───────────────┼──────────────■───────────────┼────────────»\n",
       "«         │     ┌─┴─┐           ┌─┴─┐          ┌─┴─┐           ┌─┴─┐          »\n",
       "«q_2: ────┼─────┤ X ├─────■─────┤ X ├────■─────┤ X ├─────■─────┤ X ├────■─────»\n",
       "«     ┌───┴────┐└───┘┌────┴────┐└───┘┌───┴────┐└───┘┌────┴────┐└───┘┌───┴────┐»\n",
       "«q_3: ┤ P(π/4) ├─────┤ P(-π/4) ├─────┤ P(π/4) ├─────┤ P(-π/4) ├─────┤ P(π/4) ├»\n",
       "«     └────────┘     └─────────┘     └────────┘     └─────────┘     └────────┘»\n",
       "«      ░ ┌───┐┌───┐ ░                                                          »\n",
       "«q_0: ─░─┤ X ├┤ X ├─░─────■───────■───────────────■────────────────────────────»\n",
       "«      ░ ├───┤├───┤ ░     │     ┌─┴─┐           ┌─┴─┐                          »\n",
       "«q_1: ─░─┤ X ├┤ X ├─░─────┼─────┤ X ├─────■─────┤ X ├────■───────■─────────────»\n",
       "«      ░ └───┘└───┘ ░     │     └───┘     │     └───┘    │     ┌─┴─┐           »\n",
       "«q_2: ─░────────────░─────┼───────────────┼──────────────┼─────┤ X ├─────■─────»\n",
       "«      ░ ┌───┐      ░ ┌───┴────┐     ┌────┴────┐     ┌───┴────┐└───┘┌────┴────┐»\n",
       "«q_3: ─░─┤ X ├──────░─┤ P(π/4) ├─────┤ P(-π/4) ├─────┤ P(π/4) ├─────┤ P(-π/4) ├»\n",
       "«      ░ └───┘      ░ └────────┘     └─────────┘     └────────┘     └─────────┘»\n",
       "«                                                    ░ ┌───┐ ░ ┌───┐┌───┐ ░ »\n",
       "«q_0: ──■──────────────────────────────■─────────────░─┤ X ├─░─┤ H ├┤ X ├─░─»\n",
       "«       │                              │             ░ ├───┤ ░ ├───┤├───┤ ░ »\n",
       "«q_1: ──┼──────────────■───────────────┼─────────────░─┤ X ├─░─┤ H ├┤ X ├─░─»\n",
       "«     ┌─┴─┐          ┌─┴─┐           ┌─┴─┐           ░ └───┘ ░ ├───┤├───┤ ░ »\n",
       "«q_2: ┤ X ├────■─────┤ X ├─────■─────┤ X ├────■──────░───────░─┤ H ├┤ X ├─░─»\n",
       "«     └───┘┌───┴────┐└───┘┌────┴────┐└───┘┌───┴────┐ ░       ░ ├───┤├───┤ ░ »\n",
       "«q_3: ─────┤ P(π/4) ├─────┤ P(-π/4) ├─────┤ P(π/4) ├─░───────░─┤ H ├┤ X ├─░─»\n",
       "«          └────────┘     └─────────┘     └────────┘ ░       ░ └───┘└───┘ ░ »\n",
       "«                                                                             »\n",
       "«q_0: ────■───────■───────────────■──────────────────────────────■────────────»\n",
       "«         │     ┌─┴─┐           ┌─┴─┐                            │            »\n",
       "«q_1: ────┼─────┤ X ├─────■─────┤ X ├────■───────■───────────────┼────────────»\n",
       "«         │     └───┘     │     └───┘    │     ┌─┴─┐           ┌─┴─┐          »\n",
       "«q_2: ────┼───────────────┼──────────────┼─────┤ X ├─────■─────┤ X ├────■─────»\n",
       "«     ┌───┴────┐     ┌────┴────┐     ┌───┴────┐└───┘┌────┴────┐└───┘┌───┴────┐»\n",
       "«q_3: ┤ P(π/4) ├─────┤ P(-π/4) ├─────┤ P(π/4) ├─────┤ P(-π/4) ├─────┤ P(π/4) ├»\n",
       "«     └────────┘     └─────────┘     └────────┘     └─────────┘     └────────┘»\n",
       "«                                     ░ ┌───┐┌───┐\n",
       "«q_0: ──────────────────■─────────────░─┤ X ├┤ H ├\n",
       "«                       │             ░ ├───┤├───┤\n",
       "«q_1: ──■───────────────┼─────────────░─┤ X ├┤ H ├\n",
       "«     ┌─┴─┐           ┌─┴─┐           ░ ├───┤├───┤\n",
       "«q_2: ┤ X ├─────■─────┤ X ├────■──────░─┤ X ├┤ H ├\n",
       "«     └───┘┌────┴────┐└───┘┌───┴────┐ ░ ├───┤├───┤\n",
       "«q_3: ─────┤ P(-π/4) ├─────┤ P(π/4) ├─░─┤ X ├┤ H ├\n",
       "«          └─────────┘     └────────┘ ░ └───┘└───┘</pre>"
      ],
      "text/plain": [
       "     ┌───┐┌───┐ ░                                                          »\n",
       "q_0: ┤ H ├┤ X ├─░─────■───────■───────────────■────────────────────────────»\n",
       "     ├───┤├───┤ ░     │     ┌─┴─┐           ┌─┴─┐                          »\n",
       "q_1: ┤ H ├┤ X ├─░─────┼─────┤ X ├─────■─────┤ X ├────■───────■─────────────»\n",
       "     ├───┤└───┘ ░     │     └───┘     │     └───┘    │     ┌─┴─┐           »\n",
       "q_2: ┤ H ├──────░─────┼───────────────┼──────────────┼─────┤ X ├─────■─────»\n",
       "     ├───┤┌───┐ ░ ┌───┴────┐     ┌────┴────┐     ┌───┴────┐└───┘┌────┴────┐»\n",
       "q_3: ┤ H ├┤ X ├─░─┤ P(π/4) ├─────┤ P(-π/4) ├─────┤ P(π/4) ├─────┤ P(-π/4) ├»\n",
       "     └───┘└───┘ ░ └────────┘     └─────────┘     └────────┘     └─────────┘»\n",
       "«                                                    ░ ┌───┐┌───┐ ░           »\n",
       "«q_0: ──■──────────────────────────────■─────────────░─┤ X ├┤ X ├─░─────■─────»\n",
       "«       │                              │             ░ ├───┤├───┤ ░     │     »\n",
       "«q_1: ──┼──────────────■───────────────┼─────────────░─┤ X ├┤ X ├─░─────┼─────»\n",
       "«     ┌─┴─┐          ┌─┴─┐           ┌─┴─┐           ░ └───┘└───┘ ░     │     »\n",
       "«q_2: ┤ X ├────■─────┤ X ├─────■─────┤ X ├────■──────░────────────░─────┼─────»\n",
       "«     └───┘┌───┴────┐└───┘┌────┴────┐└───┘┌───┴────┐ ░ ┌───┐      ░ ┌───┴────┐»\n",
       "«q_3: ─────┤ P(π/4) ├─────┤ P(-π/4) ├─────┤ P(π/4) ├─░─┤ X ├──────░─┤ P(π/4) ├»\n",
       "«          └────────┘     └─────────┘     └────────┘ ░ └───┘      ░ └────────┘»\n",
       "«                                                                        »\n",
       "«q_0: ──■───────────────■──────────────────────────────■─────────────────»\n",
       "«     ┌─┴─┐           ┌─┴─┐                            │                 »\n",
       "«q_1: ┤ X ├─────■─────┤ X ├────■───────■───────────────┼──────────────■──»\n",
       "«     └───┘     │     └───┘    │     ┌─┴─┐           ┌─┴─┐          ┌─┴─┐»\n",
       "«q_2: ──────────┼──────────────┼─────┤ X ├─────■─────┤ X ├────■─────┤ X ├»\n",
       "«          ┌────┴────┐     ┌───┴────┐└───┘┌────┴────┐└───┘┌───┴────┐└───┘»\n",
       "«q_3: ─────┤ P(-π/4) ├─────┤ P(π/4) ├─────┤ P(-π/4) ├─────┤ P(π/4) ├─────»\n",
       "«          └─────────┘     └────────┘     └─────────┘     └────────┘     »\n",
       "«                                ░ ┌───┐ ░ ┌───┐┌───┐ ░                »\n",
       "«q_0: ─────────────■─────────────░─┤ X ├─░─┤ H ├┤ X ├─░─────■───────■──»\n",
       "«                  │             ░ ├───┤ ░ ├───┤├───┤ ░     │     ┌─┴─┐»\n",
       "«q_1: ─────────────┼─────────────░─┤ X ├─░─┤ H ├┤ X ├─░─────┼─────┤ X ├»\n",
       "«                ┌─┴─┐           ░ └───┘ ░ ├───┤├───┤ ░     │     └───┘»\n",
       "«q_2: ─────■─────┤ X ├────■──────░───────░─┤ H ├┤ X ├─░─────┼──────────»\n",
       "«     ┌────┴────┐└───┘┌───┴────┐ ░       ░ ├───┤├───┤ ░ ┌───┴────┐     »\n",
       "«q_3: ┤ P(-π/4) ├─────┤ P(π/4) ├─░───────░─┤ H ├┤ X ├─░─┤ P(π/4) ├─────»\n",
       "«     └─────────┘     └────────┘ ░       ░ └───┘└───┘ ░ └────────┘     »\n",
       "«                                                                              »\n",
       "«q_0: ─────────────■──────────────────────────────■────────────────────────────»\n",
       "«                ┌─┴─┐                            │                            »\n",
       "«q_1: ─────■─────┤ X ├────■───────■───────────────┼──────────────■─────────────»\n",
       "«          │     └───┘    │     ┌─┴─┐           ┌─┴─┐          ┌─┴─┐           »\n",
       "«q_2: ─────┼──────────────┼─────┤ X ├─────■─────┤ X ├────■─────┤ X ├─────■─────»\n",
       "«     ┌────┴────┐     ┌───┴────┐└───┘┌────┴────┐└───┘┌───┴────┐└───┘┌────┴────┐»\n",
       "«q_3: ┤ P(-π/4) ├─────┤ P(π/4) ├─────┤ P(-π/4) ├─────┤ P(π/4) ├─────┤ P(-π/4) ├»\n",
       "«     └─────────┘     └────────┘     └─────────┘     └────────┘     └─────────┘»\n",
       "«                     ░ ┌───┐┌───┐┌───┐ ░                                »\n",
       "«q_0: ──■─────────────░─┤ X ├┤ H ├┤ X ├─░─────■───────■───────────────■──»\n",
       "«       │             ░ ├───┤├───┤├───┤ ░     │     ┌─┴─┐           ┌─┴─┐»\n",
       "«q_1: ──┼─────────────░─┤ X ├┤ H ├┤ X ├─░─────┼─────┤ X ├─────■─────┤ X ├»\n",
       "«     ┌─┴─┐           ░ ├───┤├───┤└───┘ ░     │     └───┘     │     └───┘»\n",
       "«q_2: ┤ X ├────■──────░─┤ X ├┤ H ├──────░─────┼───────────────┼──────────»\n",
       "«     └───┘┌───┴────┐ ░ ├───┤├───┤┌───┐ ░ ┌───┴────┐     ┌────┴────┐     »\n",
       "«q_3: ─────┤ P(π/4) ├─░─┤ X ├┤ H ├┤ X ├─░─┤ P(π/4) ├─────┤ P(-π/4) ├─────»\n",
       "«          └────────┘ ░ └───┘└───┘└───┘ ░ └────────┘     └─────────┘     »\n",
       "«                                                                             »\n",
       "«q_0: ────────────────────────────■──────────────────────────────■────────────»\n",
       "«                                 │                              │            »\n",
       "«q_1: ────■───────■───────────────┼──────────────■───────────────┼────────────»\n",
       "«         │     ┌─┴─┐           ┌─┴─┐          ┌─┴─┐           ┌─┴─┐          »\n",
       "«q_2: ────┼─────┤ X ├─────■─────┤ X ├────■─────┤ X ├─────■─────┤ X ├────■─────»\n",
       "«     ┌───┴────┐└───┘┌────┴────┐└───┘┌───┴────┐└───┘┌────┴────┐└───┘┌───┴────┐»\n",
       "«q_3: ┤ P(π/4) ├─────┤ P(-π/4) ├─────┤ P(π/4) ├─────┤ P(-π/4) ├─────┤ P(π/4) ├»\n",
       "«     └────────┘     └─────────┘     └────────┘     └─────────┘     └────────┘»\n",
       "«      ░ ┌───┐┌───┐ ░                                                          »\n",
       "«q_0: ─░─┤ X ├┤ X ├─░─────■───────■───────────────■────────────────────────────»\n",
       "«      ░ ├───┤├───┤ ░     │     ┌─┴─┐           ┌─┴─┐                          »\n",
       "«q_1: ─░─┤ X ├┤ X ├─░─────┼─────┤ X ├─────■─────┤ X ├────■───────■─────────────»\n",
       "«      ░ └───┘└───┘ ░     │     └───┘     │     └───┘    │     ┌─┴─┐           »\n",
       "«q_2: ─░────────────░─────┼───────────────┼──────────────┼─────┤ X ├─────■─────»\n",
       "«      ░ ┌───┐      ░ ┌───┴────┐     ┌────┴────┐     ┌───┴────┐└───┘┌────┴────┐»\n",
       "«q_3: ─░─┤ X ├──────░─┤ P(π/4) ├─────┤ P(-π/4) ├─────┤ P(π/4) ├─────┤ P(-π/4) ├»\n",
       "«      ░ └───┘      ░ └────────┘     └─────────┘     └────────┘     └─────────┘»\n",
       "«                                                    ░ ┌───┐ ░ ┌───┐┌───┐ ░ »\n",
       "«q_0: ──■──────────────────────────────■─────────────░─┤ X ├─░─┤ H ├┤ X ├─░─»\n",
       "«       │                              │             ░ ├───┤ ░ ├───┤├───┤ ░ »\n",
       "«q_1: ──┼──────────────■───────────────┼─────────────░─┤ X ├─░─┤ H ├┤ X ├─░─»\n",
       "«     ┌─┴─┐          ┌─┴─┐           ┌─┴─┐           ░ └───┘ ░ ├───┤├───┤ ░ »\n",
       "«q_2: ┤ X ├────■─────┤ X ├─────■─────┤ X ├────■──────░───────░─┤ H ├┤ X ├─░─»\n",
       "«     └───┘┌───┴────┐└───┘┌────┴────┐└───┘┌───┴────┐ ░       ░ ├───┤├───┤ ░ »\n",
       "«q_3: ─────┤ P(π/4) ├─────┤ P(-π/4) ├─────┤ P(π/4) ├─░───────░─┤ H ├┤ X ├─░─»\n",
       "«          └────────┘     └─────────┘     └────────┘ ░       ░ └───┘└───┘ ░ »\n",
       "«                                                                             »\n",
       "«q_0: ────■───────■───────────────■──────────────────────────────■────────────»\n",
       "«         │     ┌─┴─┐           ┌─┴─┐                            │            »\n",
       "«q_1: ────┼─────┤ X ├─────■─────┤ X ├────■───────■───────────────┼────────────»\n",
       "«         │     └───┘     │     └───┘    │     ┌─┴─┐           ┌─┴─┐          »\n",
       "«q_2: ────┼───────────────┼──────────────┼─────┤ X ├─────■─────┤ X ├────■─────»\n",
       "«     ┌───┴────┐     ┌────┴────┐     ┌───┴────┐└───┘┌────┴────┐└───┘┌───┴────┐»\n",
       "«q_3: ┤ P(π/4) ├─────┤ P(-π/4) ├─────┤ P(π/4) ├─────┤ P(-π/4) ├─────┤ P(π/4) ├»\n",
       "«     └────────┘     └─────────┘     └────────┘     └─────────┘     └────────┘»\n",
       "«                                     ░ ┌───┐┌───┐\n",
       "«q_0: ──────────────────■─────────────░─┤ X ├┤ H ├\n",
       "«                       │             ░ ├───┤├───┤\n",
       "«q_1: ──■───────────────┼─────────────░─┤ X ├┤ H ├\n",
       "«     ┌─┴─┐           ┌─┴─┐           ░ ├───┤├───┤\n",
       "«q_2: ┤ X ├─────■─────┤ X ├────■──────░─┤ X ├┤ H ├\n",
       "«     └───┘┌────┴────┐└───┘┌───┴────┐ ░ ├───┤├───┤\n",
       "«q_3: ─────┤ P(-π/4) ├─────┤ P(π/4) ├─░─┤ X ├┤ H ├\n",
       "«          └─────────┘     └────────┘ ░ └───┘└───┘"
      ]
     },
     "execution_count": 17,
     "metadata": {},
     "output_type": "execute_result"
    }
   ],
   "source": [
    "grover_circuit = grover(['0100', '1100'], 4)\n",
    "grover_circuit.draw()"
   ]
  },
  {
   "cell_type": "code",
   "execution_count": 18,
   "metadata": {},
   "outputs": [
    {
     "data": {
      "text/plain": [
       "1"
      ]
     },
     "execution_count": 18,
     "metadata": {},
     "output_type": "execute_result"
    }
   ],
   "source": [
    "x = [1,2,3]\n",
    "x[0]"
   ]
  },
  {
   "cell_type": "code",
   "execution_count": 19,
   "metadata": {},
   "outputs": [],
   "source": [
    "sv_sim = Aer.get_backend('statevector_simulator')\n",
    "qobj = assemble(grover_circuit)\n",
    "result = sv_sim.run(qobj).result()\n",
    "statevec = result.get_statevector()"
   ]
  },
  {
   "cell_type": "code",
   "execution_count": 20,
   "metadata": {},
   "outputs": [
    {
     "data": {
      "image/png": "[encoded data removed]",
      "text/plain": [
       "<Figure size 504x360 with 1 Axes>"
      ]
     },
     "execution_count": 20,
     "metadata": {},
     "output_type": "execute_result"
    }
   ],
   "source": [
    "grover_circuit.measure_all()\n",
    "\n",
    "qasm_sim = Aer.get_backend('qasm_simulator')\n",
    "qobj = assemble(grover_circuit)\n",
    "result = qasm_sim.run(qobj).result()\n",
    "counts = result.get_counts()\n",
    "plot_histogram(counts)"
   ]
  },
  {
   "cell_type": "code",
   "execution_count": null,
   "metadata": {},
   "outputs": [],
   "source": []
  },
  {
   "cell_type": "code",
   "execution_count": null,
   "metadata": {},
   "outputs": [],
   "source": []
  }
 ],
 "metadata": {
  "kernelspec": {
   "display_name": "Python 3",
   "language": "python",
   "name": "python3"
  },
  "language_info": {
   "codemirror_mode": {
    "name": "ipython",
    "version": 3
   },
   "file_extension": ".py",
   "mimetype": "text/x-python",
   "name": "python",
   "nbconvert_exporter": "python",
   "pygments_lexer": "ipython3",
   "version": "3.8.3"
  }
 },
 "nbformat": 4,
 "nbformat_minor": 4
}

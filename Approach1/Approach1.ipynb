{
 "cells": [
  {
   "cell_type": "code",
   "execution_count": 1,
   "metadata": {},
   "outputs": [],
   "source": [
    "#initialization\n",
    "import matplotlib.pyplot as plt\n",
    "import numpy as np\n",
    "\n",
    "# importing Qiskit\n",
    "from qiskit import IBMQ, Aer, assemble, transpile\n",
    "from qiskit import QuantumCircuit, ClassicalRegister, QuantumRegister\n",
    "from qiskit.providers.ibmq import least_busy\n",
    "\n",
    "# import basic plot tools\n",
    "from qiskit.visualization import plot_histogram"
   ]
  },
  {
   "cell_type": "code",
   "execution_count": 2,
   "metadata": {},
   "outputs": [],
   "source": [
    "from math import pi"
   ]
  },
  {
   "cell_type": "code",
   "execution_count": 3,
   "metadata": {},
   "outputs": [],
   "source": [
    "def initialize_s(qc, qubits):\n",
    "    \"\"\"Apply a H-gate to 'qubits' in qc\"\"\"\n",
    "    for q in qubits:\n",
    "        qc.h(q)\n",
    "    return qc"
   ]
  },
  {
   "cell_type": "code",
   "execution_count": 4,
   "metadata": {},
   "outputs": [],
   "source": [
    "n = 4\n",
    "grover_circuit = QuantumCircuit(n)"
   ]
  },
  {
   "cell_type": "markdown",
   "metadata": {},
   "source": [
    "# Oracle begin."
   ]
  },
  {
   "cell_type": "code",
   "execution_count": 5,
   "metadata": {},
   "outputs": [
    {
     "data": {
      "text/html": [
       "<pre style=\"word-wrap: normal;white-space: pre;background: #fff0;line-height: 1.1;font-family: &quot;Courier New&quot;,Courier,monospace\">     ┌───┐\n",
       "q_0: ┤ H ├\n",
       "     ├───┤\n",
       "q_1: ┤ H ├\n",
       "     ├───┤\n",
       "q_2: ┤ H ├\n",
       "     ├───┤\n",
       "q_3: ┤ H ├\n",
       "     └───┘</pre>"
      ],
      "text/plain": [
       "     ┌───┐\n",
       "q_0: ┤ H ├\n",
       "     ├───┤\n",
       "q_1: ┤ H ├\n",
       "     ├───┤\n",
       "q_2: ┤ H ├\n",
       "     ├───┤\n",
       "q_3: ┤ H ├\n",
       "     └───┘"
      ]
     },
     "execution_count": 5,
     "metadata": {},
     "output_type": "execute_result"
    }
   ],
   "source": [
    "grover_circuit = initialize_s(grover_circuit, [0,1,2,3])\n",
    "grover_circuit.draw()"
   ]
  },
  {
   "cell_type": "code",
   "execution_count": 6,
   "metadata": {},
   "outputs": [
    {
     "data": {
      "text/html": [
       "<pre style=\"word-wrap: normal;white-space: pre;background: #fff0;line-height: 1.1;font-family: &quot;Courier New&quot;,Courier,monospace\">     ┌───┐┌───┐\n",
       "q_0: ┤ H ├┤ X ├\n",
       "     ├───┤└───┘\n",
       "q_1: ┤ H ├─────\n",
       "     ├───┤┌───┐\n",
       "q_2: ┤ H ├┤ X ├\n",
       "     ├───┤├───┤\n",
       "q_3: ┤ H ├┤ X ├\n",
       "     └───┘└───┘</pre>"
      ],
      "text/plain": [
       "     ┌───┐┌───┐\n",
       "q_0: ┤ H ├┤ X ├\n",
       "     ├───┤└───┘\n",
       "q_1: ┤ H ├─────\n",
       "     ├───┤┌───┐\n",
       "q_2: ┤ H ├┤ X ├\n",
       "     ├───┤├───┤\n",
       "q_3: ┤ H ├┤ X ├\n",
       "     └───┘└───┘"
      ]
     },
     "execution_count": 6,
     "metadata": {},
     "output_type": "execute_result"
    }
   ],
   "source": [
    "grover_circuit.x(0)\n",
    "grover_circuit.x(2)\n",
    "grover_circuit.x(3)\n",
    "grover_circuit.draw()"
   ]
  },
  {
   "cell_type": "markdown",
   "metadata": {},
   "source": [
    "## cccZ begin."
   ]
  },
  {
   "cell_type": "code",
   "execution_count": 7,
   "metadata": {},
   "outputs": [
    {
     "name": "stderr",
     "output_type": "stream",
     "text": [
      "<ipython-input-7-b540a21ce452>:2: DeprecationWarning: The QuantumCircuit.cu1 method is deprecated as of 0.16.0. It will be removed no earlier than 3 months after the release date. You should use the QuantumCircuit.cp method instead, which acts identically.\n",
      "  grover_circuit.cu1(pi/4, 0, 3)\n"
     ]
    },
    {
     "data": {
      "text/html": [
       "<pre style=\"word-wrap: normal;white-space: pre;background: #fff0;line-height: 1.1;font-family: &quot;Courier New&quot;,Courier,monospace\">     ┌───┐┌───┐ ░                                                          »\n",
       "q_0: ┤ H ├┤ X ├─░──■──────────■───────────────■────────────────────────────»\n",
       "     ├───┤└───┘ ░  │        ┌─┴─┐           ┌─┴─┐                          »\n",
       "q_1: ┤ H ├──────░──┼────────┤ X ├─■─────────┤ X ├─■──────────■─────────────»\n",
       "     ├───┤┌───┐ ░  │        └───┘ │         └───┘ │        ┌─┴─┐           »\n",
       "q_2: ┤ H ├┤ X ├─░──┼──────────────┼───────────────┼────────┤ X ├─■─────────»\n",
       "     ├───┤├───┤ ░  │U1(π/4)       │U1(-π/4)       │U1(π/4) └───┘ │U1(-π/4) »\n",
       "q_3: ┤ H ├┤ X ├─░──■──────────────■───────────────■──────────────■─────────»\n",
       "     └───┘└───┘ ░                                                          »\n",
       "«                                                   \n",
       "«q_0: ──■──────────────────────────────■────────────\n",
       "«       │                              │            \n",
       "«q_1: ──┼──────────────■───────────────┼────────────\n",
       "«     ┌─┴─┐          ┌─┴─┐           ┌─┴─┐          \n",
       "«q_2: ┤ X ├─■────────┤ X ├─■─────────┤ X ├─■────────\n",
       "«     └───┘ │U1(π/4) └───┘ │U1(-π/4) └───┘ │U1(π/4) \n",
       "«q_3: ──────■──────────────■───────────────■────────\n",
       "«                                                   </pre>"
      ],
      "text/plain": [
       "     ┌───┐┌───┐ ░                                                          »\n",
       "q_0: ┤ H ├┤ X ├─░──■──────────■───────────────■────────────────────────────»\n",
       "     ├───┤└───┘ ░  │        ┌─┴─┐           ┌─┴─┐                          »\n",
       "q_1: ┤ H ├──────░──┼────────┤ X ├─■─────────┤ X ├─■──────────■─────────────»\n",
       "     ├───┤┌───┐ ░  │        └───┘ │         └───┘ │        ┌─┴─┐           »\n",
       "q_2: ┤ H ├┤ X ├─░──┼──────────────┼───────────────┼────────┤ X ├─■─────────»\n",
       "     ├───┤├───┤ ░  │U1(π/4)       │U1(-π/4)       │U1(π/4) └───┘ │U1(-π/4) »\n",
       "q_3: ┤ H ├┤ X ├─░──■──────────────■───────────────■──────────────■─────────»\n",
       "     └───┘└───┘ ░                                                          »\n",
       "«                                                   \n",
       "«q_0: ──■──────────────────────────────■────────────\n",
       "«       │                              │            \n",
       "«q_1: ──┼──────────────■───────────────┼────────────\n",
       "«     ┌─┴─┐          ┌─┴─┐           ┌─┴─┐          \n",
       "«q_2: ┤ X ├─■────────┤ X ├─■─────────┤ X ├─■────────\n",
       "«     └───┘ │U1(π/4) └───┘ │U1(-π/4) └───┘ │U1(π/4) \n",
       "«q_3: ──────■──────────────■───────────────■────────\n",
       "«                                                   "
      ]
     },
     "execution_count": 7,
     "metadata": {},
     "output_type": "execute_result"
    }
   ],
   "source": [
    "grover_circuit.barrier([0, 1, 2,3])\n",
    "grover_circuit.cu1(pi/4, 0, 3)\n",
    "grover_circuit.cx(0, 1)\n",
    "grover_circuit.cu1(-pi/4, 1, 3)\n",
    "grover_circuit.cx(0, 1)\n",
    "grover_circuit.cu1(pi/4, 1, 3)\n",
    "grover_circuit.cx(1, 2)\n",
    "grover_circuit.cu1(-pi/4, 2, 3)\n",
    "grover_circuit.cx(0, 2)\n",
    "grover_circuit.cu1(pi/4, 2, 3)\n",
    "grover_circuit.cx(1, 2)\n",
    "grover_circuit.cu1(-pi/4, 2, 3)\n",
    "grover_circuit.cx(0, 2)\n",
    "grover_circuit.cu1(pi/4, 2, 3)\n",
    "grover_circuit.draw()"
   ]
  },
  {
   "cell_type": "markdown",
   "metadata": {},
   "source": [
    "## ccZ end"
   ]
  },
  {
   "cell_type": "code",
   "execution_count": 8,
   "metadata": {},
   "outputs": [
    {
     "data": {
      "text/html": [
       "<pre style=\"word-wrap: normal;white-space: pre;background: #fff0;line-height: 1.1;font-family: &quot;Courier New&quot;,Courier,monospace\">     ┌───┐┌───┐ ░                                                          »\n",
       "q_0: ┤ H ├┤ X ├─░──■──────────■───────────────■────────────────────────────»\n",
       "     ├───┤└───┘ ░  │        ┌─┴─┐           ┌─┴─┐                          »\n",
       "q_1: ┤ H ├──────░──┼────────┤ X ├─■─────────┤ X ├─■──────────■─────────────»\n",
       "     ├───┤┌───┐ ░  │        └───┘ │         └───┘ │        ┌─┴─┐           »\n",
       "q_2: ┤ H ├┤ X ├─░──┼──────────────┼───────────────┼────────┤ X ├─■─────────»\n",
       "     ├───┤├───┤ ░  │U1(π/4)       │U1(-π/4)       │U1(π/4) └───┘ │U1(-π/4) »\n",
       "q_3: ┤ H ├┤ X ├─░──■──────────────■───────────────■──────────────■─────────»\n",
       "     └───┘└───┘ ░                                                          »\n",
       "«                                                    ░ ┌───┐\n",
       "«q_0: ──■──────────────────────────────■─────────────░─┤ X ├\n",
       "«       │                              │             ░ └───┘\n",
       "«q_1: ──┼──────────────■───────────────┼─────────────░──────\n",
       "«     ┌─┴─┐          ┌─┴─┐           ┌─┴─┐           ░ ┌───┐\n",
       "«q_2: ┤ X ├─■────────┤ X ├─■─────────┤ X ├─■─────────░─┤ X ├\n",
       "«     └───┘ │U1(π/4) └───┘ │U1(-π/4) └───┘ │U1(π/4)  ░ ├───┤\n",
       "«q_3: ──────■──────────────■───────────────■─────────░─┤ X ├\n",
       "«                                                    ░ └───┘</pre>"
      ],
      "text/plain": [
       "     ┌───┐┌───┐ ░                                                          »\n",
       "q_0: ┤ H ├┤ X ├─░──■──────────■───────────────■────────────────────────────»\n",
       "     ├───┤└───┘ ░  │        ┌─┴─┐           ┌─┴─┐                          »\n",
       "q_1: ┤ H ├──────░──┼────────┤ X ├─■─────────┤ X ├─■──────────■─────────────»\n",
       "     ├───┤┌───┐ ░  │        └───┘ │         └───┘ │        ┌─┴─┐           »\n",
       "q_2: ┤ H ├┤ X ├─░──┼──────────────┼───────────────┼────────┤ X ├─■─────────»\n",
       "     ├───┤├───┤ ░  │U1(π/4)       │U1(-π/4)       │U1(π/4) └───┘ │U1(-π/4) »\n",
       "q_3: ┤ H ├┤ X ├─░──■──────────────■───────────────■──────────────■─────────»\n",
       "     └───┘└───┘ ░                                                          »\n",
       "«                                                    ░ ┌───┐\n",
       "«q_0: ──■──────────────────────────────■─────────────░─┤ X ├\n",
       "«       │                              │             ░ └───┘\n",
       "«q_1: ──┼──────────────■───────────────┼─────────────░──────\n",
       "«     ┌─┴─┐          ┌─┴─┐           ┌─┴─┐           ░ ┌───┐\n",
       "«q_2: ┤ X ├─■────────┤ X ├─■─────────┤ X ├─■─────────░─┤ X ├\n",
       "«     └───┘ │U1(π/4) └───┘ │U1(-π/4) └───┘ │U1(π/4)  ░ ├───┤\n",
       "«q_3: ──────■──────────────■───────────────■─────────░─┤ X ├\n",
       "«                                                    ░ └───┘"
      ]
     },
     "execution_count": 8,
     "metadata": {},
     "output_type": "execute_result"
    }
   ],
   "source": [
    "grover_circuit.barrier([0, 1, 2,3])\n",
    "grover_circuit.x(0)\n",
    "grover_circuit.x(2)\n",
    "grover_circuit.x(3)\n",
    "grover_circuit.draw()"
   ]
  },
  {
   "cell_type": "markdown",
   "metadata": {},
   "source": [
    "# Oracle End"
   ]
  },
  {
   "cell_type": "markdown",
   "metadata": {},
   "source": [
    "# Amplification"
   ]
  },
  {
   "cell_type": "code",
   "execution_count": 9,
   "metadata": {},
   "outputs": [
    {
     "data": {
      "text/html": [
       "<pre style=\"word-wrap: normal;white-space: pre;background: #fff0;line-height: 1.1;font-family: &quot;Courier New&quot;,Courier,monospace\">     ┌───┐┌───┐ ░                                                          »\n",
       "q_0: ┤ H ├┤ X ├─░──■──────────■───────────────■────────────────────────────»\n",
       "     ├───┤└───┘ ░  │        ┌─┴─┐           ┌─┴─┐                          »\n",
       "q_1: ┤ H ├──────░──┼────────┤ X ├─■─────────┤ X ├─■──────────■─────────────»\n",
       "     ├───┤┌───┐ ░  │        └───┘ │         └───┘ │        ┌─┴─┐           »\n",
       "q_2: ┤ H ├┤ X ├─░──┼──────────────┼───────────────┼────────┤ X ├─■─────────»\n",
       "     ├───┤├───┤ ░  │U1(π/4)       │U1(-π/4)       │U1(π/4) └───┘ │U1(-π/4) »\n",
       "q_3: ┤ H ├┤ X ├─░──■──────────────■───────────────■──────────────■─────────»\n",
       "     └───┘└───┘ ░                                                          »\n",
       "«                                                    ░ ┌───┐ ░ ┌───┐┌───┐\n",
       "«q_0: ──■──────────────────────────────■─────────────░─┤ X ├─░─┤ H ├┤ X ├\n",
       "«       │                              │             ░ └───┘ ░ ├───┤├───┤\n",
       "«q_1: ──┼──────────────■───────────────┼─────────────░───────░─┤ H ├┤ X ├\n",
       "«     ┌─┴─┐          ┌─┴─┐           ┌─┴─┐           ░ ┌───┐ ░ ├───┤├───┤\n",
       "«q_2: ┤ X ├─■────────┤ X ├─■─────────┤ X ├─■─────────░─┤ X ├─░─┤ H ├┤ X ├\n",
       "«     └───┘ │U1(π/4) └───┘ │U1(-π/4) └───┘ │U1(π/4)  ░ ├───┤ ░ ├───┤├───┤\n",
       "«q_3: ──────■──────────────■───────────────■─────────░─┤ X ├─░─┤ H ├┤ X ├\n",
       "«                                                    ░ └───┘ ░ └───┘└───┘</pre>"
      ],
      "text/plain": [
       "     ┌───┐┌───┐ ░                                                          »\n",
       "q_0: ┤ H ├┤ X ├─░──■──────────■───────────────■────────────────────────────»\n",
       "     ├───┤└───┘ ░  │        ┌─┴─┐           ┌─┴─┐                          »\n",
       "q_1: ┤ H ├──────░──┼────────┤ X ├─■─────────┤ X ├─■──────────■─────────────»\n",
       "     ├───┤┌───┐ ░  │        └───┘ │         └───┘ │        ┌─┴─┐           »\n",
       "q_2: ┤ H ├┤ X ├─░──┼──────────────┼───────────────┼────────┤ X ├─■─────────»\n",
       "     ├───┤├───┤ ░  │U1(π/4)       │U1(-π/4)       │U1(π/4) └───┘ │U1(-π/4) »\n",
       "q_3: ┤ H ├┤ X ├─░──■──────────────■───────────────■──────────────■─────────»\n",
       "     └───┘└───┘ ░                                                          »\n",
       "«                                                    ░ ┌───┐ ░ ┌───┐┌───┐\n",
       "«q_0: ──■──────────────────────────────■─────────────░─┤ X ├─░─┤ H ├┤ X ├\n",
       "«       │                              │             ░ └───┘ ░ ├───┤├───┤\n",
       "«q_1: ──┼──────────────■───────────────┼─────────────░───────░─┤ H ├┤ X ├\n",
       "«     ┌─┴─┐          ┌─┴─┐           ┌─┴─┐           ░ ┌───┐ ░ ├───┤├───┤\n",
       "«q_2: ┤ X ├─■────────┤ X ├─■─────────┤ X ├─■─────────░─┤ X ├─░─┤ H ├┤ X ├\n",
       "«     └───┘ │U1(π/4) └───┘ │U1(-π/4) └───┘ │U1(π/4)  ░ ├───┤ ░ ├───┤├───┤\n",
       "«q_3: ──────■──────────────■───────────────■─────────░─┤ X ├─░─┤ H ├┤ X ├\n",
       "«                                                    ░ └───┘ ░ └───┘└───┘"
      ]
     },
     "execution_count": 9,
     "metadata": {},
     "output_type": "execute_result"
    }
   ],
   "source": [
    "grover_circuit.barrier([0, 1, 2,3])\n",
    "grover_circuit.h(0)\n",
    "grover_circuit.h(1)\n",
    "grover_circuit.h(2)\n",
    "grover_circuit.h(3)\n",
    "grover_circuit.x(0)\n",
    "grover_circuit.x(1)\n",
    "grover_circuit.x(2)\n",
    "grover_circuit.x(3)\n",
    "grover_circuit.draw()"
   ]
  },
  {
   "cell_type": "markdown",
   "metadata": {},
   "source": [
    "## Another cccZ"
   ]
  },
  {
   "cell_type": "code",
   "execution_count": 10,
   "metadata": {},
   "outputs": [
    {
     "data": {
      "text/html": [
       "<pre style=\"word-wrap: normal;white-space: pre;background: #fff0;line-height: 1.1;font-family: &quot;Courier New&quot;,Courier,monospace\">     ┌───┐┌───┐ ░                                                          »\n",
       "q_0: ┤ H ├┤ X ├─░──■──────────■───────────────■────────────────────────────»\n",
       "     ├───┤└───┘ ░  │        ┌─┴─┐           ┌─┴─┐                          »\n",
       "q_1: ┤ H ├──────░──┼────────┤ X ├─■─────────┤ X ├─■──────────■─────────────»\n",
       "     ├───┤┌───┐ ░  │        └───┘ │         └───┘ │        ┌─┴─┐           »\n",
       "q_2: ┤ H ├┤ X ├─░──┼──────────────┼───────────────┼────────┤ X ├─■─────────»\n",
       "     ├───┤├───┤ ░  │U1(π/4)       │U1(-π/4)       │U1(π/4) └───┘ │U1(-π/4) »\n",
       "q_3: ┤ H ├┤ X ├─░──■──────────────■───────────────■──────────────■─────────»\n",
       "     └───┘└───┘ ░                                                          »\n",
       "«                                                    ░ ┌───┐ ░ ┌───┐┌───┐ ░ »\n",
       "«q_0: ──■──────────────────────────────■─────────────░─┤ X ├─░─┤ H ├┤ X ├─░─»\n",
       "«       │                              │             ░ └───┘ ░ ├───┤├───┤ ░ »\n",
       "«q_1: ──┼──────────────■───────────────┼─────────────░───────░─┤ H ├┤ X ├─░─»\n",
       "«     ┌─┴─┐          ┌─┴─┐           ┌─┴─┐           ░ ┌───┐ ░ ├───┤├───┤ ░ »\n",
       "«q_2: ┤ X ├─■────────┤ X ├─■─────────┤ X ├─■─────────░─┤ X ├─░─┤ H ├┤ X ├─░─»\n",
       "«     └───┘ │U1(π/4) └───┘ │U1(-π/4) └───┘ │U1(π/4)  ░ ├───┤ ░ ├───┤├───┤ ░ »\n",
       "«q_3: ──────■──────────────■───────────────■─────────░─┤ X ├─░─┤ H ├┤ X ├─░─»\n",
       "«                                                    ░ └───┘ ░ └───┘└───┘ ░ »\n",
       "«                                                                             »\n",
       "«q_0: ─■──────────■───────────────■──────────────────────────────■────────────»\n",
       "«      │        ┌─┴─┐           ┌─┴─┐                            │            »\n",
       "«q_1: ─┼────────┤ X ├─■─────────┤ X ├─■──────────■───────────────┼────────────»\n",
       "«      │        └───┘ │         └───┘ │        ┌─┴─┐           ┌─┴─┐          »\n",
       "«q_2: ─┼──────────────┼───────────────┼────────┤ X ├─■─────────┤ X ├─■────────»\n",
       "«      │U1(π/4)       │U1(-π/4)       │U1(π/4) └───┘ │U1(-π/4) └───┘ │U1(π/4) »\n",
       "«q_3: ─■──────────────■───────────────■──────────────■───────────────■────────»\n",
       "«                                                                             »\n",
       "«                                    \n",
       "«q_0: ──────────────────■────────────\n",
       "«                       │            \n",
       "«q_1: ──■───────────────┼────────────\n",
       "«     ┌─┴─┐           ┌─┴─┐          \n",
       "«q_2: ┤ X ├─■─────────┤ X ├─■────────\n",
       "«     └───┘ │U1(-π/4) └───┘ │U1(π/4) \n",
       "«q_3: ──────■───────────────■────────\n",
       "«                                    </pre>"
      ],
      "text/plain": [
       "     ┌───┐┌───┐ ░                                                          »\n",
       "q_0: ┤ H ├┤ X ├─░──■──────────■───────────────■────────────────────────────»\n",
       "     ├───┤└───┘ ░  │        ┌─┴─┐           ┌─┴─┐                          »\n",
       "q_1: ┤ H ├──────░──┼────────┤ X ├─■─────────┤ X ├─■──────────■─────────────»\n",
       "     ├───┤┌───┐ ░  │        └───┘ │         └───┘ │        ┌─┴─┐           »\n",
       "q_2: ┤ H ├┤ X ├─░──┼──────────────┼───────────────┼────────┤ X ├─■─────────»\n",
       "     ├───┤├───┤ ░  │U1(π/4)       │U1(-π/4)       │U1(π/4) └───┘ │U1(-π/4) »\n",
       "q_3: ┤ H ├┤ X ├─░──■──────────────■───────────────■──────────────■─────────»\n",
       "     └───┘└───┘ ░                                                          »\n",
       "«                                                    ░ ┌───┐ ░ ┌───┐┌───┐ ░ »\n",
       "«q_0: ──■──────────────────────────────■─────────────░─┤ X ├─░─┤ H ├┤ X ├─░─»\n",
       "«       │                              │             ░ └───┘ ░ ├───┤├───┤ ░ »\n",
       "«q_1: ──┼──────────────■───────────────┼─────────────░───────░─┤ H ├┤ X ├─░─»\n",
       "«     ┌─┴─┐          ┌─┴─┐           ┌─┴─┐           ░ ┌───┐ ░ ├───┤├───┤ ░ »\n",
       "«q_2: ┤ X ├─■────────┤ X ├─■─────────┤ X ├─■─────────░─┤ X ├─░─┤ H ├┤ X ├─░─»\n",
       "«     └───┘ │U1(π/4) └───┘ │U1(-π/4) └───┘ │U1(π/4)  ░ ├───┤ ░ ├───┤├───┤ ░ »\n",
       "«q_3: ──────■──────────────■───────────────■─────────░─┤ X ├─░─┤ H ├┤ X ├─░─»\n",
       "«                                                    ░ └───┘ ░ └───┘└───┘ ░ »\n",
       "«                                                                             »\n",
       "«q_0: ─■──────────■───────────────■──────────────────────────────■────────────»\n",
       "«      │        ┌─┴─┐           ┌─┴─┐                            │            »\n",
       "«q_1: ─┼────────┤ X ├─■─────────┤ X ├─■──────────■───────────────┼────────────»\n",
       "«      │        └───┘ │         └───┘ │        ┌─┴─┐           ┌─┴─┐          »\n",
       "«q_2: ─┼──────────────┼───────────────┼────────┤ X ├─■─────────┤ X ├─■────────»\n",
       "«      │U1(π/4)       │U1(-π/4)       │U1(π/4) └───┘ │U1(-π/4) └───┘ │U1(π/4) »\n",
       "«q_3: ─■──────────────■───────────────■──────────────■───────────────■────────»\n",
       "«                                                                             »\n",
       "«                                    \n",
       "«q_0: ──────────────────■────────────\n",
       "«                       │            \n",
       "«q_1: ──■───────────────┼────────────\n",
       "«     ┌─┴─┐           ┌─┴─┐          \n",
       "«q_2: ┤ X ├─■─────────┤ X ├─■────────\n",
       "«     └───┘ │U1(-π/4) └───┘ │U1(π/4) \n",
       "«q_3: ──────■───────────────■────────\n",
       "«                                    "
      ]
     },
     "execution_count": 10,
     "metadata": {},
     "output_type": "execute_result"
    }
   ],
   "source": [
    "grover_circuit.barrier([0, 1, 2,3])\n",
    "grover_circuit.cu1(pi/4, 0, 3)\n",
    "grover_circuit.cx(0, 1)\n",
    "grover_circuit.cu1(-pi/4, 1, 3)\n",
    "grover_circuit.cx(0, 1)\n",
    "grover_circuit.cu1(pi/4, 1, 3)\n",
    "grover_circuit.cx(1, 2)\n",
    "grover_circuit.cu1(-pi/4, 2, 3)\n",
    "grover_circuit.cx(0, 2)\n",
    "grover_circuit.cu1(pi/4, 2, 3)\n",
    "grover_circuit.cx(1, 2)\n",
    "grover_circuit.cu1(-pi/4, 2, 3)\n",
    "grover_circuit.cx(0, 2)\n",
    "grover_circuit.cu1(pi/4, 2, 3)\n",
    "grover_circuit.draw()"
   ]
  },
  {
   "cell_type": "markdown",
   "metadata": {},
   "source": [
    "## End cccZ"
   ]
  },
  {
   "cell_type": "code",
   "execution_count": 11,
   "metadata": {},
   "outputs": [
    {
     "data": {
      "text/html": [
       "<pre style=\"word-wrap: normal;white-space: pre;background: #fff0;line-height: 1.1;font-family: &quot;Courier New&quot;,Courier,monospace\">     ┌───┐┌───┐ ░                                                          »\n",
       "q_0: ┤ H ├┤ X ├─░──■──────────■───────────────■────────────────────────────»\n",
       "     ├───┤└───┘ ░  │        ┌─┴─┐           ┌─┴─┐                          »\n",
       "q_1: ┤ H ├──────░──┼────────┤ X ├─■─────────┤ X ├─■──────────■─────────────»\n",
       "     ├───┤┌───┐ ░  │        └───┘ │         └───┘ │        ┌─┴─┐           »\n",
       "q_2: ┤ H ├┤ X ├─░──┼──────────────┼───────────────┼────────┤ X ├─■─────────»\n",
       "     ├───┤├───┤ ░  │U1(π/4)       │U1(-π/4)       │U1(π/4) └───┘ │U1(-π/4) »\n",
       "q_3: ┤ H ├┤ X ├─░──■──────────────■───────────────■──────────────■─────────»\n",
       "     └───┘└───┘ ░                                                          »\n",
       "«                                                    ░ ┌───┐ ░ ┌───┐┌───┐ ░ »\n",
       "«q_0: ──■──────────────────────────────■─────────────░─┤ X ├─░─┤ H ├┤ X ├─░─»\n",
       "«       │                              │             ░ └───┘ ░ ├───┤├───┤ ░ »\n",
       "«q_1: ──┼──────────────■───────────────┼─────────────░───────░─┤ H ├┤ X ├─░─»\n",
       "«     ┌─┴─┐          ┌─┴─┐           ┌─┴─┐           ░ ┌───┐ ░ ├───┤├───┤ ░ »\n",
       "«q_2: ┤ X ├─■────────┤ X ├─■─────────┤ X ├─■─────────░─┤ X ├─░─┤ H ├┤ X ├─░─»\n",
       "«     └───┘ │U1(π/4) └───┘ │U1(-π/4) └───┘ │U1(π/4)  ░ ├───┤ ░ ├───┤├───┤ ░ »\n",
       "«q_3: ──────■──────────────■───────────────■─────────░─┤ X ├─░─┤ H ├┤ X ├─░─»\n",
       "«                                                    ░ └───┘ ░ └───┘└───┘ ░ »\n",
       "«                                                                             »\n",
       "«q_0: ─■──────────■───────────────■──────────────────────────────■────────────»\n",
       "«      │        ┌─┴─┐           ┌─┴─┐                            │            »\n",
       "«q_1: ─┼────────┤ X ├─■─────────┤ X ├─■──────────■───────────────┼────────────»\n",
       "«      │        └───┘ │         └───┘ │        ┌─┴─┐           ┌─┴─┐          »\n",
       "«q_2: ─┼──────────────┼───────────────┼────────┤ X ├─■─────────┤ X ├─■────────»\n",
       "«      │U1(π/4)       │U1(-π/4)       │U1(π/4) └───┘ │U1(-π/4) └───┘ │U1(π/4) »\n",
       "«q_3: ─■──────────────■───────────────■──────────────■───────────────■────────»\n",
       "«                                                                             »\n",
       "«                                     ░ ┌───┐┌───┐\n",
       "«q_0: ──────────────────■─────────────░─┤ X ├┤ H ├\n",
       "«                       │             ░ ├───┤├───┤\n",
       "«q_1: ──■───────────────┼─────────────░─┤ X ├┤ H ├\n",
       "«     ┌─┴─┐           ┌─┴─┐           ░ ├───┤├───┤\n",
       "«q_2: ┤ X ├─■─────────┤ X ├─■─────────░─┤ X ├┤ H ├\n",
       "«     └───┘ │U1(-π/4) └───┘ │U1(π/4)  ░ ├───┤├───┤\n",
       "«q_3: ──────■───────────────■─────────░─┤ X ├┤ H ├\n",
       "«                                     ░ └───┘└───┘</pre>"
      ],
      "text/plain": [
       "     ┌───┐┌───┐ ░                                                          »\n",
       "q_0: ┤ H ├┤ X ├─░──■──────────■───────────────■────────────────────────────»\n",
       "     ├───┤└───┘ ░  │        ┌─┴─┐           ┌─┴─┐                          »\n",
       "q_1: ┤ H ├──────░──┼────────┤ X ├─■─────────┤ X ├─■──────────■─────────────»\n",
       "     ├───┤┌───┐ ░  │        └───┘ │         └───┘ │        ┌─┴─┐           »\n",
       "q_2: ┤ H ├┤ X ├─░──┼──────────────┼───────────────┼────────┤ X ├─■─────────»\n",
       "     ├───┤├───┤ ░  │U1(π/4)       │U1(-π/4)       │U1(π/4) └───┘ │U1(-π/4) »\n",
       "q_3: ┤ H ├┤ X ├─░──■──────────────■───────────────■──────────────■─────────»\n",
       "     └───┘└───┘ ░                                                          »\n",
       "«                                                    ░ ┌───┐ ░ ┌───┐┌───┐ ░ »\n",
       "«q_0: ──■──────────────────────────────■─────────────░─┤ X ├─░─┤ H ├┤ X ├─░─»\n",
       "«       │                              │             ░ └───┘ ░ ├───┤├───┤ ░ »\n",
       "«q_1: ──┼──────────────■───────────────┼─────────────░───────░─┤ H ├┤ X ├─░─»\n",
       "«     ┌─┴─┐          ┌─┴─┐           ┌─┴─┐           ░ ┌───┐ ░ ├───┤├───┤ ░ »\n",
       "«q_2: ┤ X ├─■────────┤ X ├─■─────────┤ X ├─■─────────░─┤ X ├─░─┤ H ├┤ X ├─░─»\n",
       "«     └───┘ │U1(π/4) └───┘ │U1(-π/4) └───┘ │U1(π/4)  ░ ├───┤ ░ ├───┤├───┤ ░ »\n",
       "«q_3: ──────■──────────────■───────────────■─────────░─┤ X ├─░─┤ H ├┤ X ├─░─»\n",
       "«                                                    ░ └───┘ ░ └───┘└───┘ ░ »\n",
       "«                                                                             »\n",
       "«q_0: ─■──────────■───────────────■──────────────────────────────■────────────»\n",
       "«      │        ┌─┴─┐           ┌─┴─┐                            │            »\n",
       "«q_1: ─┼────────┤ X ├─■─────────┤ X ├─■──────────■───────────────┼────────────»\n",
       "«      │        └───┘ │         └───┘ │        ┌─┴─┐           ┌─┴─┐          »\n",
       "«q_2: ─┼──────────────┼───────────────┼────────┤ X ├─■─────────┤ X ├─■────────»\n",
       "«      │U1(π/4)       │U1(-π/4)       │U1(π/4) └───┘ │U1(-π/4) └───┘ │U1(π/4) »\n",
       "«q_3: ─■──────────────■───────────────■──────────────■───────────────■────────»\n",
       "«                                                                             »\n",
       "«                                     ░ ┌───┐┌───┐\n",
       "«q_0: ──────────────────■─────────────░─┤ X ├┤ H ├\n",
       "«                       │             ░ ├───┤├───┤\n",
       "«q_1: ──■───────────────┼─────────────░─┤ X ├┤ H ├\n",
       "«     ┌─┴─┐           ┌─┴─┐           ░ ├───┤├───┤\n",
       "«q_2: ┤ X ├─■─────────┤ X ├─■─────────░─┤ X ├┤ H ├\n",
       "«     └───┘ │U1(-π/4) └───┘ │U1(π/4)  ░ ├───┤├───┤\n",
       "«q_3: ──────■───────────────■─────────░─┤ X ├┤ H ├\n",
       "«                                     ░ └───┘└───┘"
      ]
     },
     "execution_count": 11,
     "metadata": {},
     "output_type": "execute_result"
    }
   ],
   "source": [
    "grover_circuit.barrier([0, 1, 2,3])\n",
    "grover_circuit.x(0)\n",
    "grover_circuit.x(1)\n",
    "grover_circuit.x(2)\n",
    "grover_circuit.x(3)\n",
    "grover_circuit.h(0)\n",
    "grover_circuit.h(1)\n",
    "grover_circuit.h(2)\n",
    "grover_circuit.h(3)\n",
    "grover_circuit.draw()"
   ]
  },
  {
   "cell_type": "code",
   "execution_count": 12,
   "metadata": {},
   "outputs": [],
   "source": [
    "sv_sim = Aer.get_backend('statevector_simulator')\n",
    "qobj = assemble(grover_circuit)\n",
    "result = sv_sim.run(qobj).result()\n",
    "statevec = result.get_statevector()"
   ]
  },
  {
   "cell_type": "code",
   "execution_count": 13,
   "metadata": {},
   "outputs": [
    {
     "data": {
      "image/png": "[encoded data removed]",
      "text/plain": [
       "<Figure size 504x360 with 1 Axes>"
      ]
     },
     "execution_count": 13,
     "metadata": {},
     "output_type": "execute_result"
    }
   ],
   "source": [
    "grover_circuit.measure_all()\n",
    "\n",
    "qasm_sim = Aer.get_backend('qasm_simulator')\n",
    "qobj = assemble(grover_circuit)\n",
    "result = qasm_sim.run(qobj).result()\n",
    "counts = result.get_counts()\n",
    "plot_histogram(counts)"
   ]
  },
  {
   "cell_type": "code",
   "execution_count": null,
   "metadata": {},
   "outputs": [],
   "source": []
  }
 ],
 "metadata": {
  "kernelspec": {
   "display_name": "Python 3",
   "language": "python",
   "name": "python3"
  },
  "language_info": {
   "codemirror_mode": {
    "name": "ipython",
    "version": 3
   },
   "file_extension": ".py",
   "mimetype": "text/x-python",
   "name": "python",
   "nbconvert_exporter": "python",
   "pygments_lexer": "ipython3",
   "version": "3.8.3"
  }
 },
 "nbformat": 4,
 "nbformat_minor": 4
}

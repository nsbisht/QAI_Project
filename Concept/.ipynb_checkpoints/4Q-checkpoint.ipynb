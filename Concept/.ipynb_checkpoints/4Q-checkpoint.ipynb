{
 "cells": [
  {
   "cell_type": "markdown",
   "metadata": {},
   "source": [
    "# Grover's Algorithm"
   ]
  },
  {
   "cell_type": "code",
   "execution_count": 1,
   "metadata": {},
   "outputs": [],
   "source": [
    "from qiskit import *\n",
    "from qiskit.compiler import *\n",
    "from qiskit.tools.jupyter import *\n",
    "from qiskit.visualization import *\n",
    "from qiskit_textbook.tools import *\n",
    "from qiskit.quantum_info import Operator\n",
    "import numpy as np\n",
    "import warnings\n",
    "warnings.filterwarnings('ignore')"
   ]
  },
  {
   "cell_type": "code",
   "execution_count": 2,
   "metadata": {},
   "outputs": [],
   "source": [
    "qasm_simulator = Aer.get_backend('qasm_simulator')\n",
    "statevector_simulator = Aer.get_backend('statevector_simulator')\n",
    "unitary_simulator = Aer.get_backend('unitary_simulator')"
   ]
  },
  {
   "cell_type": "markdown",
   "metadata": {},
   "source": [
    "# Review of Grover's Algorithm"
   ]
  },
  {
   "cell_type": "markdown",
   "metadata": {},
   "source": [
    "![image](resources/grover_blockdiagram.png)"
   ]
  },
  {
   "cell_type": "markdown",
   "metadata": {},
   "source": [
    "Please note\n",
    "\n",
    "- In these exercises, we implement the phase oracle and diffuser as matrices without decomposing them into single- and two-qubit gates. \n",
    "- To run on real hardware, one will also need to consider how to build these oracles using gates. "
   ]
  },
  {
   "cell_type": "markdown",
   "metadata": {},
   "source": [
    "**Grover's Algorithm**\n",
    "\n",
    "The Grover's algorithm has three main components. \n",
    "1. First, we begin by creating a superposition of all $2^n$ computational basis states by applying a Hadamard ($H$) gate on each qubit starting off in the state $\\vert0\\rangle^{\\otimes n}$. Here, the exponent $\\otimes n$ means that we have a tensor product of the states of $n$ qubits. \n",
    "2. Second, we apply an Oracle operator to mark the appropriate elements among the $2^n$ elements. The oracle operator applies a coefficient of $-1$ to each of the marked elements.\n",
    "3. Third, we apply a Diffusion operator, or diffuser, which inverts the amplitude of all elements about the average amplitude.\n",
    "\n",
    "- Putting these components together, and applying the Oracle and Diffusion operators $O(\\sqrt{N = 2^n})$ times, Grover's algorithm allows us to successfully determine the elements that were marked by the Oracle operator with high probability. \n",
    "- This is shown in the block diagram above, where the quantum circuit for Grover's algorithm is depicted with a measurement in the end to read out the qubits."
   ]
  },
  {
   "cell_type": "code",
   "execution_count": 3,
   "metadata": {},
   "outputs": [],
   "source": [
    "n = 4 # Number of Qubits\n",
    "indices_of_marked_elements = [1]"
   ]
  },
  {
   "cell_type": "markdown",
   "metadata": {},
   "source": [
    "Here, we would implement Grover's algorithm by creating a quantum circuit that has the one or more marked elements. We would like the algorithm to outputs one of the marked elements with probability greater than $99\\%$. \n",
    "\n",
    "### 1.) Phase Oracle\n",
    "\n",
    "**Recall that the action of the phase oracle is to add a phase of $-1$ to all states representing the marked elements, while leaving all other states unchanged.** \n",
    "\n",
    "- An easy way to implement the phase oracle is to create an identity matrix on all $n$ qubits (remember that the corresponding dimension of this matrix is $2^n$). \n",
    "- Then, change those diagonal elements to $-1$ that correspond to the marked elements. \n",
    "- Then, we need to convert that unitary into an operator.\n",
    "\n",
    "The function `phase_oracle` defined below, takes in two arguments. \n",
    "\n",
    "- The first argument, $n$, gives the number of qubits in the quantum circuit. \n",
    "- The second argument, `indices_to_mark`, is a list of the indices whose elements will be marked by the phase oracle with a phase of $-1$. \n",
    "- Using these inputs, create a $2^n\\times2^n$ identity matrix, and apply a phase of $-1$ to the diagonal elements at locations given in `indices_to_mark`. \n",
    "- For example, if $0$ is in `indices_to_mark`, that means weneed to set the top-left-most diagonal element of the identity matrix to -1.\n",
    "\n",
    "Once we complete these steps, apply the unitary operator to the quantum circuit."
   ]
  },
  {
   "cell_type": "code",
   "execution_count": 4,
   "metadata": {},
   "outputs": [],
   "source": [
    "def phase_oracle(n, indices_to_mark, name = 'Oracle'):\n",
    "    \n",
    "    # create a quantum circuit on n qubits\n",
    "    qc = QuantumCircuit(n, name=name)\n",
    "    \n",
    "    # create the identity matrix on n qubits\n",
    "    oracle_matrix = np.identity(2**n)\n",
    "    \n",
    "    # add the -1 phase to marked elements\n",
    "    for index_to_mark in indices_to_mark:\n",
    "        oracle_matrix[index_to_mark, index_to_mark] = -1    \n",
    "    \n",
    "    # convert your matrix (called oracle_matrix) into an operator, and add it to the quantum circuit\n",
    "    qc.unitary(Operator(oracle_matrix), range(n))\n",
    "    \n",
    "    return qc"
   ]
  },
  {
   "cell_type": "code",
   "execution_count": 5,
   "metadata": {},
   "outputs": [],
   "source": [
    "def phase_oracle_explained(n, indices_to_mark, name = 'Oracle'):\n",
    "    \n",
    "    # create a quantum circuit on n qubits\n",
    "    qc = QuantumCircuit(n, name=name)\n",
    "    \n",
    "    # create the identity matrix on n qubits\n",
    "    oracle_matrix = np.identity(2**n)\n",
    "    print(oracle_matrix, end=\"\\n----\\n\")\n",
    "    \n",
    "    # add the -1 phase to marked elements\n",
    "    for index_to_mark in indices_to_mark:\n",
    "        oracle_matrix[index_to_mark, index_to_mark] = -1\n",
    "    print(oracle_matrix, end=\"\\n----\\n\")    \n",
    "    \n",
    "    print(Operator(oracle_matrix), end=\"\\n----\\n\")\n",
    "    \n",
    "    # convert your matrix (called oracle_matrix) into an operator, and add it to the quantum circuit\n",
    "    qc.unitary(Operator(oracle_matrix), range(n))\n",
    "    \n",
    "    return qc"
   ]
  },
  {
   "cell_type": "code",
   "execution_count": 6,
   "metadata": {},
   "outputs": [
    {
     "name": "stdout",
     "output_type": "stream",
     "text": [
      "[[1. 0. 0. 0. 0. 0. 0. 0. 0. 0. 0. 0. 0. 0. 0. 0.]\n",
      " [0. 1. 0. 0. 0. 0. 0. 0. 0. 0. 0. 0. 0. 0. 0. 0.]\n",
      " [0. 0. 1. 0. 0. 0. 0. 0. 0. 0. 0. 0. 0. 0. 0. 0.]\n",
      " [0. 0. 0. 1. 0. 0. 0. 0. 0. 0. 0. 0. 0. 0. 0. 0.]\n",
      " [0. 0. 0. 0. 1. 0. 0. 0. 0. 0. 0. 0. 0. 0. 0. 0.]\n",
      " [0. 0. 0. 0. 0. 1. 0. 0. 0. 0. 0. 0. 0. 0. 0. 0.]\n",
      " [0. 0. 0. 0. 0. 0. 1. 0. 0. 0. 0. 0. 0. 0. 0. 0.]\n",
      " [0. 0. 0. 0. 0. 0. 0. 1. 0. 0. 0. 0. 0. 0. 0. 0.]\n",
      " [0. 0. 0. 0. 0. 0. 0. 0. 1. 0. 0. 0. 0. 0. 0. 0.]\n",
      " [0. 0. 0. 0. 0. 0. 0. 0. 0. 1. 0. 0. 0. 0. 0. 0.]\n",
      " [0. 0. 0. 0. 0. 0. 0. 0. 0. 0. 1. 0. 0. 0. 0. 0.]\n",
      " [0. 0. 0. 0. 0. 0. 0. 0. 0. 0. 0. 1. 0. 0. 0. 0.]\n",
      " [0. 0. 0. 0. 0. 0. 0. 0. 0. 0. 0. 0. 1. 0. 0. 0.]\n",
      " [0. 0. 0. 0. 0. 0. 0. 0. 0. 0. 0. 0. 0. 1. 0. 0.]\n",
      " [0. 0. 0. 0. 0. 0. 0. 0. 0. 0. 0. 0. 0. 0. 1. 0.]\n",
      " [0. 0. 0. 0. 0. 0. 0. 0. 0. 0. 0. 0. 0. 0. 0. 1.]]\n",
      "----\n",
      "[[ 1.  0.  0.  0.  0.  0.  0.  0.  0.  0.  0.  0.  0.  0.  0.  0.]\n",
      " [ 0. -1.  0.  0.  0.  0.  0.  0.  0.  0.  0.  0.  0.  0.  0.  0.]\n",
      " [ 0.  0.  1.  0.  0.  0.  0.  0.  0.  0.  0.  0.  0.  0.  0.  0.]\n",
      " [ 0.  0.  0.  1.  0.  0.  0.  0.  0.  0.  0.  0.  0.  0.  0.  0.]\n",
      " [ 0.  0.  0.  0.  1.  0.  0.  0.  0.  0.  0.  0.  0.  0.  0.  0.]\n",
      " [ 0.  0.  0.  0.  0.  1.  0.  0.  0.  0.  0.  0.  0.  0.  0.  0.]\n",
      " [ 0.  0.  0.  0.  0.  0.  1.  0.  0.  0.  0.  0.  0.  0.  0.  0.]\n",
      " [ 0.  0.  0.  0.  0.  0.  0.  1.  0.  0.  0.  0.  0.  0.  0.  0.]\n",
      " [ 0.  0.  0.  0.  0.  0.  0.  0.  1.  0.  0.  0.  0.  0.  0.  0.]\n",
      " [ 0.  0.  0.  0.  0.  0.  0.  0.  0.  1.  0.  0.  0.  0.  0.  0.]\n",
      " [ 0.  0.  0.  0.  0.  0.  0.  0.  0.  0.  1.  0.  0.  0.  0.  0.]\n",
      " [ 0.  0.  0.  0.  0.  0.  0.  0.  0.  0.  0.  1.  0.  0.  0.  0.]\n",
      " [ 0.  0.  0.  0.  0.  0.  0.  0.  0.  0.  0.  0.  1.  0.  0.  0.]\n",
      " [ 0.  0.  0.  0.  0.  0.  0.  0.  0.  0.  0.  0.  0.  1.  0.  0.]\n",
      " [ 0.  0.  0.  0.  0.  0.  0.  0.  0.  0.  0.  0.  0.  0.  1.  0.]\n",
      " [ 0.  0.  0.  0.  0.  0.  0.  0.  0.  0.  0.  0.  0.  0.  0.  1.]]\n",
      "----\n",
      "Operator([[ 1.+0.j,  0.+0.j,  0.+0.j,  0.+0.j,  0.+0.j,  0.+0.j,  0.+0.j,\n",
      "            0.+0.j,  0.+0.j,  0.+0.j,  0.+0.j,  0.+0.j,  0.+0.j,  0.+0.j,\n",
      "            0.+0.j,  0.+0.j],\n",
      "          [ 0.+0.j, -1.+0.j,  0.+0.j,  0.+0.j,  0.+0.j,  0.+0.j,  0.+0.j,\n",
      "            0.+0.j,  0.+0.j,  0.+0.j,  0.+0.j,  0.+0.j,  0.+0.j,  0.+0.j,\n",
      "            0.+0.j,  0.+0.j],\n",
      "          [ 0.+0.j,  0.+0.j,  1.+0.j,  0.+0.j,  0.+0.j,  0.+0.j,  0.+0.j,\n",
      "            0.+0.j,  0.+0.j,  0.+0.j,  0.+0.j,  0.+0.j,  0.+0.j,  0.+0.j,\n",
      "            0.+0.j,  0.+0.j],\n",
      "          [ 0.+0.j,  0.+0.j,  0.+0.j,  1.+0.j,  0.+0.j,  0.+0.j,  0.+0.j,\n",
      "            0.+0.j,  0.+0.j,  0.+0.j,  0.+0.j,  0.+0.j,  0.+0.j,  0.+0.j,\n",
      "            0.+0.j,  0.+0.j],\n",
      "          [ 0.+0.j,  0.+0.j,  0.+0.j,  0.+0.j,  1.+0.j,  0.+0.j,  0.+0.j,\n",
      "            0.+0.j,  0.+0.j,  0.+0.j,  0.+0.j,  0.+0.j,  0.+0.j,  0.+0.j,\n",
      "            0.+0.j,  0.+0.j],\n",
      "          [ 0.+0.j,  0.+0.j,  0.+0.j,  0.+0.j,  0.+0.j,  1.+0.j,  0.+0.j,\n",
      "            0.+0.j,  0.+0.j,  0.+0.j,  0.+0.j,  0.+0.j,  0.+0.j,  0.+0.j,\n",
      "            0.+0.j,  0.+0.j],\n",
      "          [ 0.+0.j,  0.+0.j,  0.+0.j,  0.+0.j,  0.+0.j,  0.+0.j,  1.+0.j,\n",
      "            0.+0.j,  0.+0.j,  0.+0.j,  0.+0.j,  0.+0.j,  0.+0.j,  0.+0.j,\n",
      "            0.+0.j,  0.+0.j],\n",
      "          [ 0.+0.j,  0.+0.j,  0.+0.j,  0.+0.j,  0.+0.j,  0.+0.j,  0.+0.j,\n",
      "            1.+0.j,  0.+0.j,  0.+0.j,  0.+0.j,  0.+0.j,  0.+0.j,  0.+0.j,\n",
      "            0.+0.j,  0.+0.j],\n",
      "          [ 0.+0.j,  0.+0.j,  0.+0.j,  0.+0.j,  0.+0.j,  0.+0.j,  0.+0.j,\n",
      "            0.+0.j,  1.+0.j,  0.+0.j,  0.+0.j,  0.+0.j,  0.+0.j,  0.+0.j,\n",
      "            0.+0.j,  0.+0.j],\n",
      "          [ 0.+0.j,  0.+0.j,  0.+0.j,  0.+0.j,  0.+0.j,  0.+0.j,  0.+0.j,\n",
      "            0.+0.j,  0.+0.j,  1.+0.j,  0.+0.j,  0.+0.j,  0.+0.j,  0.+0.j,\n",
      "            0.+0.j,  0.+0.j],\n",
      "          [ 0.+0.j,  0.+0.j,  0.+0.j,  0.+0.j,  0.+0.j,  0.+0.j,  0.+0.j,\n",
      "            0.+0.j,  0.+0.j,  0.+0.j,  1.+0.j,  0.+0.j,  0.+0.j,  0.+0.j,\n",
      "            0.+0.j,  0.+0.j],\n",
      "          [ 0.+0.j,  0.+0.j,  0.+0.j,  0.+0.j,  0.+0.j,  0.+0.j,  0.+0.j,\n",
      "            0.+0.j,  0.+0.j,  0.+0.j,  0.+0.j,  1.+0.j,  0.+0.j,  0.+0.j,\n",
      "            0.+0.j,  0.+0.j],\n",
      "          [ 0.+0.j,  0.+0.j,  0.+0.j,  0.+0.j,  0.+0.j,  0.+0.j,  0.+0.j,\n",
      "            0.+0.j,  0.+0.j,  0.+0.j,  0.+0.j,  0.+0.j,  1.+0.j,  0.+0.j,\n",
      "            0.+0.j,  0.+0.j],\n",
      "          [ 0.+0.j,  0.+0.j,  0.+0.j,  0.+0.j,  0.+0.j,  0.+0.j,  0.+0.j,\n",
      "            0.+0.j,  0.+0.j,  0.+0.j,  0.+0.j,  0.+0.j,  0.+0.j,  1.+0.j,\n",
      "            0.+0.j,  0.+0.j],\n",
      "          [ 0.+0.j,  0.+0.j,  0.+0.j,  0.+0.j,  0.+0.j,  0.+0.j,  0.+0.j,\n",
      "            0.+0.j,  0.+0.j,  0.+0.j,  0.+0.j,  0.+0.j,  0.+0.j,  0.+0.j,\n",
      "            1.+0.j,  0.+0.j],\n",
      "          [ 0.+0.j,  0.+0.j,  0.+0.j,  0.+0.j,  0.+0.j,  0.+0.j,  0.+0.j,\n",
      "            0.+0.j,  0.+0.j,  0.+0.j,  0.+0.j,  0.+0.j,  0.+0.j,  0.+0.j,\n",
      "            0.+0.j,  1.+0.j]],\n",
      "         input_dims=(2, 2, 2, 2), output_dims=(2, 2, 2, 2))\n",
      "----\n"
     ]
    },
    {
     "data": {
      "text/html": [
       "<pre style=\"word-wrap: normal;white-space: pre;background: #fff0;line-height: 1.1;font-family: &quot;Courier New&quot;,Courier,monospace\">     ┌──────────┐\n",
       "q_0: ┤0         ├\n",
       "     │          │\n",
       "q_1: ┤1         ├\n",
       "     │  unitary │\n",
       "q_2: ┤2         ├\n",
       "     │          │\n",
       "q_3: ┤3         ├\n",
       "     └──────────┘</pre>"
      ],
      "text/plain": [
       "     ┌──────────┐\n",
       "q_0: ┤0         ├\n",
       "     │          │\n",
       "q_1: ┤1         ├\n",
       "     │  unitary │\n",
       "q_2: ┤2         ├\n",
       "     │          │\n",
       "q_3: ┤3         ├\n",
       "     └──────────┘"
      ]
     },
     "execution_count": 6,
     "metadata": {},
     "output_type": "execute_result"
    }
   ],
   "source": [
    "qc = phase_oracle_explained(n, indices_of_marked_elements)\n",
    "qc.draw()\n",
    "# No. of qubits =  n\n",
    "# N = 2 **n(No. of superposition states)\n",
    "# Each column represents a superposition state"
   ]
  },
  {
   "cell_type": "markdown",
   "metadata": {},
   "source": [
    "### 2.) Diffusion Operator $V$\n",
    "\n",
    "Next, we define the diffuser. \n",
    "\n",
    "- Its effect is to reflect all amplitudes about the average amplitude. \n",
    "- To do so, we simply call the `phase_oracle` with only the zero state ($\\vert0\\rangle^{\\otimes n}$) as the marked element and sandwich it between Hadamard gates applied to all qubits."
   ]
  },
  {
   "cell_type": "code",
   "execution_count": 7,
   "metadata": {},
   "outputs": [],
   "source": [
    "def diffuser(n):\n",
    "    \n",
    "    # create a quantum circuit on n qubits\n",
    "    qc = QuantumCircuit(n, name='Diffuser')\n",
    "    \n",
    "    # apply hadamard gates to all qubits\n",
    "    qc.h(range(n))\n",
    "    \n",
    "    # call the phase oracle applied to the zero state\n",
    "    qc.append(phase_oracle(n, [0]), range(n))\n",
    "    \n",
    "    # apply hadamard gates to all qubits\n",
    "    qc.h(range(n))\n",
    "    \n",
    "    return qc"
   ]
  },
  {
   "cell_type": "code",
   "execution_count": 8,
   "metadata": {},
   "outputs": [
    {
     "data": {
      "text/html": [
       "<pre style=\"word-wrap: normal;white-space: pre;background: #fff0;line-height: 1.1;font-family: &quot;Courier New&quot;,Courier,monospace\">     ┌───┐┌─────────┐┌───┐\n",
       "q_0: ┤ H ├┤0        ├┤ H ├\n",
       "     ├───┤│         │├───┤\n",
       "q_1: ┤ H ├┤1        ├┤ H ├\n",
       "     ├───┤│  Oracle │├───┤\n",
       "q_2: ┤ H ├┤2        ├┤ H ├\n",
       "     ├───┤│         │├───┤\n",
       "q_3: ┤ H ├┤3        ├┤ H ├\n",
       "     └───┘└─────────┘└───┘</pre>"
      ],
      "text/plain": [
       "     ┌───┐┌─────────┐┌───┐\n",
       "q_0: ┤ H ├┤0        ├┤ H ├\n",
       "     ├───┤│         │├───┤\n",
       "q_1: ┤ H ├┤1        ├┤ H ├\n",
       "     ├───┤│  Oracle │├───┤\n",
       "q_2: ┤ H ├┤2        ├┤ H ├\n",
       "     ├───┤│         │├───┤\n",
       "q_3: ┤ H ├┤3        ├┤ H ├\n",
       "     └───┘└─────────┘└───┘"
      ]
     },
     "execution_count": 8,
     "metadata": {},
     "output_type": "execute_result"
    }
   ],
   "source": [
    "diffuser_circuit = diffuser(n)\n",
    "diffuser_circuit.draw()"
   ]
  },
  {
   "cell_type": "markdown",
   "metadata": {},
   "source": [
    "### 3.) Putting it all together\n",
    "\n",
    "Finally, we combine the functions to construct Grover's algorithm. We need to determine the optimal number of rounds $r$ as described in the lecture.\n",
    "\n",
    "This was given by \n",
    "\n",
    "$$r = \\left\\lfloor\\frac{\\pi}{4}\\sqrt{\\frac{N}{k}}\\right\\rfloor$$\n",
    "\n",
    "where $k$ is the number of marked elements, and $\\lfloor~\\rfloor$ means rounding down to the nearest integer.\n",
    "Here,\n",
    "- n = number of qubits\n",
    "- $N = 2^n$\n",
    "- $k$ = number of marked elements\n",
    "\n",
    "\n",
    "Let's construct a quantum program that finds the marked elements using Grover's algorithm. To do this, we will need to do the following: \n",
    "1. We start with a Hadamard gate on all qubits.\n",
    "2. Next, we apply $r$ rounds of Grover's algorithm, where each round consists of the application of the phase oracle with the marked elements and the diffuser.\n",
    "3. Finally, we need to measure all qubits."
   ]
  },
  {
   "cell_type": "code",
   "execution_count": 9,
   "metadata": {},
   "outputs": [],
   "source": [
    "def Grover(n, indices_of_marked_elements, r=0):\n",
    "    \n",
    "    # Create a quantum circuit on n qubits\n",
    "    qc = QuantumCircuit(n, n)\n",
    "    \n",
    "    # Determine r\n",
    "    if r == 0:\n",
    "        r = int(np.floor(np.pi/4*np.sqrt(2**n/len(indices_of_marked_elements))))\n",
    "        print(f'{n} qubits, basis states {indices_of_marked_elements} marked, {r} rounds')\n",
    "    \n",
    "    # step 1: apply Hadamard gates on all qubits\n",
    "    qc.h(range(n))\n",
    "    \n",
    "    # step 2: apply r rounds of the phase oracle and the diffuser\n",
    "    for _ in range(r):\n",
    "        qc.append(phase_oracle(n, indices_of_marked_elements), range(n))\n",
    "        qc.append(diffuser(n), range(n))\n",
    "        \n",
    "    # step 3: measure all qubits\n",
    "    qc.measure(range(n), range(n))\n",
    "  \n",
    "    return qc"
   ]
  },
  {
   "cell_type": "code",
   "execution_count": 10,
   "metadata": {},
   "outputs": [
    {
     "data": {
      "text/html": [
       "<pre style=\"word-wrap: normal;white-space: pre;background: #fff0;line-height: 1.1;font-family: &quot;Courier New&quot;,Courier,monospace\">     ┌───┐┌─────────┐┌───────────┐┌─┐         \n",
       "q_0: ┤ H ├┤0        ├┤0          ├┤M├─────────\n",
       "     ├───┤│         ││           │└╥┘┌─┐      \n",
       "q_1: ┤ H ├┤1        ├┤1          ├─╫─┤M├──────\n",
       "     ├───┤│  Oracle ││  Diffuser │ ║ └╥┘┌─┐   \n",
       "q_2: ┤ H ├┤2        ├┤2          ├─╫──╫─┤M├───\n",
       "     ├───┤│         ││           │ ║  ║ └╥┘┌─┐\n",
       "q_3: ┤ H ├┤3        ├┤3          ├─╫──╫──╫─┤M├\n",
       "     └───┘└─────────┘└───────────┘ ║  ║  ║ └╥┘\n",
       "c: 4/══════════════════════════════╩══╩══╩══╩═\n",
       "                                   0  1  2  3 </pre>"
      ],
      "text/plain": [
       "     ┌───┐┌─────────┐┌───────────┐┌─┐         \n",
       "q_0: ┤ H ├┤0        ├┤0          ├┤M├─────────\n",
       "     ├───┤│         ││           │└╥┘┌─┐      \n",
       "q_1: ┤ H ├┤1        ├┤1          ├─╫─┤M├──────\n",
       "     ├───┤│  Oracle ││  Diffuser │ ║ └╥┘┌─┐   \n",
       "q_2: ┤ H ├┤2        ├┤2          ├─╫──╫─┤M├───\n",
       "     ├───┤│         ││           │ ║  ║ └╥┘┌─┐\n",
       "q_3: ┤ H ├┤3        ├┤3          ├─╫──╫──╫─┤M├\n",
       "     └───┘└─────────┘└───────────┘ ║  ║  ║ └╥┘\n",
       "c: 4/══════════════════════════════╩══╩══╩══╩═\n",
       "                                   0  1  2  3 "
      ]
     },
     "execution_count": 10,
     "metadata": {},
     "output_type": "execute_result"
    }
   ],
   "source": [
    "circuit = Grover(n, indices_of_marked_elements, 1)\n",
    "circuit.draw()"
   ]
  },
  {
   "cell_type": "code",
   "execution_count": 11,
   "metadata": {},
   "outputs": [
    {
     "data": {
      "image/png": "[encoded data removed]",
      "text/plain": [
       "<Figure size 720x720 with 1 Axes>"
      ]
     },
     "execution_count": 11,
     "metadata": {},
     "output_type": "execute_result"
    }
   ],
   "source": [
    "counts = execute(circuit, backend=qasm_simulator, shots=1000).result().get_counts(circuit)\n",
    "plot_histogram(counts, figsize=(10,10))"
   ]
  },
  {
   "cell_type": "code",
   "execution_count": 12,
   "metadata": {},
   "outputs": [
    {
     "data": {
      "text/html": [
       "<pre style=\"word-wrap: normal;white-space: pre;background: #fff0;line-height: 1.1;font-family: &quot;Courier New&quot;,Courier,monospace\">     ┌───┐┌─────────┐┌───────────┐┌─────────┐┌───────────┐┌─┐         \n",
       "q_0: ┤ H ├┤0        ├┤0          ├┤0        ├┤0          ├┤M├─────────\n",
       "     ├───┤│         ││           ││         ││           │└╥┘┌─┐      \n",
       "q_1: ┤ H ├┤1        ├┤1          ├┤1        ├┤1          ├─╫─┤M├──────\n",
       "     ├───┤│  Oracle ││  Diffuser ││  Oracle ││  Diffuser │ ║ └╥┘┌─┐   \n",
       "q_2: ┤ H ├┤2        ├┤2          ├┤2        ├┤2          ├─╫──╫─┤M├───\n",
       "     ├───┤│         ││           ││         ││           │ ║  ║ └╥┘┌─┐\n",
       "q_3: ┤ H ├┤3        ├┤3          ├┤3        ├┤3          ├─╫──╫──╫─┤M├\n",
       "     └───┘└─────────┘└───────────┘└─────────┘└───────────┘ ║  ║  ║ └╥┘\n",
       "c: 4/══════════════════════════════════════════════════════╩══╩══╩══╩═\n",
       "                                                           0  1  2  3 </pre>"
      ],
      "text/plain": [
       "     ┌───┐┌─────────┐┌───────────┐┌─────────┐┌───────────┐┌─┐         \n",
       "q_0: ┤ H ├┤0        ├┤0          ├┤0        ├┤0          ├┤M├─────────\n",
       "     ├───┤│         ││           ││         ││           │└╥┘┌─┐      \n",
       "q_1: ┤ H ├┤1        ├┤1          ├┤1        ├┤1          ├─╫─┤M├──────\n",
       "     ├───┤│  Oracle ││  Diffuser ││  Oracle ││  Diffuser │ ║ └╥┘┌─┐   \n",
       "q_2: ┤ H ├┤2        ├┤2          ├┤2        ├┤2          ├─╫──╫─┤M├───\n",
       "     ├───┤│         ││           ││         ││           │ ║  ║ └╥┘┌─┐\n",
       "q_3: ┤ H ├┤3        ├┤3          ├┤3        ├┤3          ├─╫──╫──╫─┤M├\n",
       "     └───┘└─────────┘└───────────┘└─────────┘└───────────┘ ║  ║  ║ └╥┘\n",
       "c: 4/══════════════════════════════════════════════════════╩══╩══╩══╩═\n",
       "                                                           0  1  2  3 "
      ]
     },
     "execution_count": 12,
     "metadata": {},
     "output_type": "execute_result"
    }
   ],
   "source": [
    "circuit = Grover(n, indices_of_marked_elements, 2)\n",
    "circuit.draw()"
   ]
  },
  {
   "cell_type": "code",
   "execution_count": 13,
   "metadata": {},
   "outputs": [
    {
     "data": {
      "image/png": "[encoded data removed]",
      "text/plain": [
       "<Figure size 720x720 with 1 Axes>"
      ]
     },
     "execution_count": 13,
     "metadata": {},
     "output_type": "execute_result"
    }
   ],
   "source": [
    "counts = execute(circuit, backend=qasm_simulator, shots=1000).result().get_counts(circuit)\n",
    "plot_histogram(counts, figsize=(10,10))"
   ]
  },
  {
   "cell_type": "code",
   "execution_count": 14,
   "metadata": {},
   "outputs": [
    {
     "data": {
      "text/html": [
       "<pre style=\"word-wrap: normal;white-space: pre;background: #fff0;line-height: 1.1;font-family: &quot;Courier New&quot;,Courier,monospace\">     ┌───┐┌─────────┐┌───────────┐┌─────────┐┌───────────┐┌─────────┐»\n",
       "q_0: ┤ H ├┤0        ├┤0          ├┤0        ├┤0          ├┤0        ├»\n",
       "     ├───┤│         ││           ││         ││           ││         │»\n",
       "q_1: ┤ H ├┤1        ├┤1          ├┤1        ├┤1          ├┤1        ├»\n",
       "     ├───┤│  Oracle ││  Diffuser ││  Oracle ││  Diffuser ││  Oracle │»\n",
       "q_2: ┤ H ├┤2        ├┤2          ├┤2        ├┤2          ├┤2        ├»\n",
       "     ├───┤│         ││           ││         ││           ││         │»\n",
       "q_3: ┤ H ├┤3        ├┤3          ├┤3        ├┤3          ├┤3        ├»\n",
       "     └───┘└─────────┘└───────────┘└─────────┘└───────────┘└─────────┘»\n",
       "c: 4/════════════════════════════════════════════════════════════════»\n",
       "                                                                     »\n",
       "«     ┌───────────┐┌─┐         \n",
       "«q_0: ┤0          ├┤M├─────────\n",
       "«     │           │└╥┘┌─┐      \n",
       "«q_1: ┤1          ├─╫─┤M├──────\n",
       "«     │  Diffuser │ ║ └╥┘┌─┐   \n",
       "«q_2: ┤2          ├─╫──╫─┤M├───\n",
       "«     │           │ ║  ║ └╥┘┌─┐\n",
       "«q_3: ┤3          ├─╫──╫──╫─┤M├\n",
       "«     └───────────┘ ║  ║  ║ └╥┘\n",
       "«c: 4/══════════════╩══╩══╩══╩═\n",
       "«                   0  1  2  3 </pre>"
      ],
      "text/plain": [
       "     ┌───┐┌─────────┐┌───────────┐┌─────────┐┌───────────┐┌─────────┐»\n",
       "q_0: ┤ H ├┤0        ├┤0          ├┤0        ├┤0          ├┤0        ├»\n",
       "     ├───┤│         ││           ││         ││           ││         │»\n",
       "q_1: ┤ H ├┤1        ├┤1          ├┤1        ├┤1          ├┤1        ├»\n",
       "     ├───┤│  Oracle ││  Diffuser ││  Oracle ││  Diffuser ││  Oracle │»\n",
       "q_2: ┤ H ├┤2        ├┤2          ├┤2        ├┤2          ├┤2        ├»\n",
       "     ├───┤│         ││           ││         ││           ││         │»\n",
       "q_3: ┤ H ├┤3        ├┤3          ├┤3        ├┤3          ├┤3        ├»\n",
       "     └───┘└─────────┘└───────────┘└─────────┘└───────────┘└─────────┘»\n",
       "c: 4/════════════════════════════════════════════════════════════════»\n",
       "                                                                     »\n",
       "«     ┌───────────┐┌─┐         \n",
       "«q_0: ┤0          ├┤M├─────────\n",
       "«     │           │└╥┘┌─┐      \n",
       "«q_1: ┤1          ├─╫─┤M├──────\n",
       "«     │  Diffuser │ ║ └╥┘┌─┐   \n",
       "«q_2: ┤2          ├─╫──╫─┤M├───\n",
       "«     │           │ ║  ║ └╥┘┌─┐\n",
       "«q_3: ┤3          ├─╫──╫──╫─┤M├\n",
       "«     └───────────┘ ║  ║  ║ └╥┘\n",
       "«c: 4/══════════════╩══╩══╩══╩═\n",
       "«                   0  1  2  3 "
      ]
     },
     "execution_count": 14,
     "metadata": {},
     "output_type": "execute_result"
    }
   ],
   "source": [
    "circuit = Grover(n, indices_of_marked_elements, 3)\n",
    "circuit.draw()"
   ]
  },
  {
   "cell_type": "code",
   "execution_count": 15,
   "metadata": {},
   "outputs": [
    {
     "data": {
      "image/png": "[encoded data removed]",
      "text/plain": [
       "<Figure size 720x720 with 1 Axes>"
      ]
     },
     "execution_count": 15,
     "metadata": {},
     "output_type": "execute_result"
    }
   ],
   "source": [
    "counts = execute(circuit, backend=qasm_simulator, shots=1000).result().get_counts(circuit)\n",
    "plot_histogram(counts, figsize=(10,10))"
   ]
  },
  {
   "cell_type": "code",
   "execution_count": 16,
   "metadata": {},
   "outputs": [],
   "source": [
    "transpiled_qc = transpile(circuit, qasm_simulator)"
   ]
  },
  {
   "cell_type": "code",
   "execution_count": 17,
   "metadata": {},
   "outputs": [
    {
     "data": {
      "text/html": [
       "<pre style=\"word-wrap: normal;white-space: pre;background: #fff0;line-height: 1.1;font-family: &quot;Courier New&quot;,Courier,monospace\">     ┌───┐┌──────────┐┌───┐┌──────────┐┌───┐┌──────────┐┌───┐┌──────────┐┌───┐»\n",
       "q_0: ┤ H ├┤0         ├┤ H ├┤0         ├┤ H ├┤0         ├┤ H ├┤0         ├┤ H ├»\n",
       "     ├───┤│          │├───┤│          │├───┤│          │├───┤│          │├───┤»\n",
       "q_1: ┤ H ├┤1         ├┤ H ├┤1         ├┤ H ├┤1         ├┤ H ├┤1         ├┤ H ├»\n",
       "     ├───┤│  unitary │├───┤│  unitary │├───┤│  unitary │├───┤│  unitary │├───┤»\n",
       "q_2: ┤ H ├┤2         ├┤ H ├┤2         ├┤ H ├┤2         ├┤ H ├┤2         ├┤ H ├»\n",
       "     ├───┤│          │├───┤│          │├───┤│          │├───┤│          │├───┤»\n",
       "q_3: ┤ H ├┤3         ├┤ H ├┤3         ├┤ H ├┤3         ├┤ H ├┤3         ├┤ H ├»\n",
       "     └───┘└──────────┘└───┘└──────────┘└───┘└──────────┘└───┘└──────────┘└───┘»\n",
       "c: 4/═════════════════════════════════════════════════════════════════════════»\n",
       "                                                                              »\n",
       "«     ┌──────────┐┌───┐┌──────────┐┌───┐┌─┐         \n",
       "«q_0: ┤0         ├┤ H ├┤0         ├┤ H ├┤M├─────────\n",
       "«     │          │├───┤│          │├───┤└╥┘┌─┐      \n",
       "«q_1: ┤1         ├┤ H ├┤1         ├┤ H ├─╫─┤M├──────\n",
       "«     │  unitary │├───┤│  unitary │├───┤ ║ └╥┘┌─┐   \n",
       "«q_2: ┤2         ├┤ H ├┤2         ├┤ H ├─╫──╫─┤M├───\n",
       "«     │          │├───┤│          │├───┤ ║  ║ └╥┘┌─┐\n",
       "«q_3: ┤3         ├┤ H ├┤3         ├┤ H ├─╫──╫──╫─┤M├\n",
       "«     └──────────┘└───┘└──────────┘└───┘ ║  ║  ║ └╥┘\n",
       "«c: 4/═══════════════════════════════════╩══╩══╩══╩═\n",
       "«                                        0  1  2  3 </pre>"
      ],
      "text/plain": [
       "     ┌───┐┌──────────┐┌───┐┌──────────┐┌───┐┌──────────┐┌───┐┌──────────┐┌───┐»\n",
       "q_0: ┤ H ├┤0         ├┤ H ├┤0         ├┤ H ├┤0         ├┤ H ├┤0         ├┤ H ├»\n",
       "     ├───┤│          │├───┤│          │├───┤│          │├───┤│          │├───┤»\n",
       "q_1: ┤ H ├┤1         ├┤ H ├┤1         ├┤ H ├┤1         ├┤ H ├┤1         ├┤ H ├»\n",
       "     ├───┤│  unitary │├───┤│  unitary │├───┤│  unitary │├───┤│  unitary │├───┤»\n",
       "q_2: ┤ H ├┤2         ├┤ H ├┤2         ├┤ H ├┤2         ├┤ H ├┤2         ├┤ H ├»\n",
       "     ├───┤│          │├───┤│          │├───┤│          │├───┤│          │├───┤»\n",
       "q_3: ┤ H ├┤3         ├┤ H ├┤3         ├┤ H ├┤3         ├┤ H ├┤3         ├┤ H ├»\n",
       "     └───┘└──────────┘└───┘└──────────┘└───┘└──────────┘└───┘└──────────┘└───┘»\n",
       "c: 4/═════════════════════════════════════════════════════════════════════════»\n",
       "                                                                              »\n",
       "«     ┌──────────┐┌───┐┌──────────┐┌───┐┌─┐         \n",
       "«q_0: ┤0         ├┤ H ├┤0         ├┤ H ├┤M├─────────\n",
       "«     │          │├───┤│          │├───┤└╥┘┌─┐      \n",
       "«q_1: ┤1         ├┤ H ├┤1         ├┤ H ├─╫─┤M├──────\n",
       "«     │  unitary │├───┤│  unitary │├───┤ ║ └╥┘┌─┐   \n",
       "«q_2: ┤2         ├┤ H ├┤2         ├┤ H ├─╫──╫─┤M├───\n",
       "«     │          │├───┤│          │├───┤ ║  ║ └╥┘┌─┐\n",
       "«q_3: ┤3         ├┤ H ├┤3         ├┤ H ├─╫──╫──╫─┤M├\n",
       "«     └──────────┘└───┘└──────────┘└───┘ ║  ║  ║ └╥┘\n",
       "«c: 4/═══════════════════════════════════╩══╩══╩══╩═\n",
       "«                                        0  1  2  3 "
      ]
     },
     "execution_count": 17,
     "metadata": {},
     "output_type": "execute_result"
    }
   ],
   "source": [
    "transpiled_qc.draw()"
   ]
  },
  {
   "cell_type": "code",
   "execution_count": 18,
   "metadata": {},
   "outputs": [
    {
     "data": {
      "text/latex": [
       "$\\displaystyle \n",
       "\\begin{bmatrix}\n",
       "0 \\\\\n",
       "-1 \\\\\n",
       "0 \\\\\n",
       "0 \\\\\n",
       "0 \\\\\n",
       "0 \\\\\n",
       "0 \\\\\n",
       "0 \\\\\n",
       "0 \\\\\n",
       "0 \\\\\n",
       "0 \\\\\n",
       "0 \\\\\n",
       "0 \\\\\n",
       "0 \\\\\n",
       "0 \\\\\n",
       "0\n",
       "\\end{bmatrix}\n",
       "$"
      ],
      "text/plain": [
       "<IPython.core.display.Math object>"
      ]
     },
     "metadata": {},
     "output_type": "display_data"
    }
   ],
   "source": [
    "qobj = assemble(transpiled_qc)\n",
    "final_state = statevector_simulator.run(qobj).result().get_statevector()\n",
    "array_to_latex(final_state)"
   ]
  },
  {
   "cell_type": "markdown",
   "metadata": {},
   "source": [
    "## Round 1 Explaination"
   ]
  },
  {
   "cell_type": "markdown",
   "metadata": {},
   "source": [
    "## 1) Initial State"
   ]
  },
  {
   "cell_type": "code",
   "execution_count": 19,
   "metadata": {},
   "outputs": [
    {
     "data": {
      "text/html": [
       "<pre style=\"word-wrap: normal;white-space: pre;background: #fff0;line-height: 1.1;font-family: &quot;Courier New&quot;,Courier,monospace\">     ┌───┐\n",
       "q_0: ┤ H ├\n",
       "     ├───┤\n",
       "q_1: ┤ H ├\n",
       "     ├───┤\n",
       "q_2: ┤ H ├\n",
       "     ├───┤\n",
       "q_3: ┤ H ├\n",
       "     └───┘</pre>"
      ],
      "text/plain": [
       "     ┌───┐\n",
       "q_0: ┤ H ├\n",
       "     ├───┤\n",
       "q_1: ┤ H ├\n",
       "     ├───┤\n",
       "q_2: ┤ H ├\n",
       "     ├───┤\n",
       "q_3: ┤ H ├\n",
       "     └───┘"
      ]
     },
     "execution_count": 19,
     "metadata": {},
     "output_type": "execute_result"
    }
   ],
   "source": [
    "qc = QuantumCircuit(n)\n",
    "qc.h(range(n))\n",
    "qc.draw()"
   ]
  },
  {
   "cell_type": "code",
   "execution_count": 20,
   "metadata": {},
   "outputs": [
    {
     "data": {
      "text/latex": [
       "$\\displaystyle \n",
       "\\begin{bmatrix}\n",
       "\\tfrac{1}{4} \\\\\n",
       "\\tfrac{1}{4} \\\\\n",
       "\\tfrac{1}{4} \\\\\n",
       "\\tfrac{1}{4} \\\\\n",
       "\\tfrac{1}{4} \\\\\n",
       "\\tfrac{1}{4} \\\\\n",
       "\\tfrac{1}{4} \\\\\n",
       "\\tfrac{1}{4} \\\\\n",
       "\\tfrac{1}{4} \\\\\n",
       "\\tfrac{1}{4} \\\\\n",
       "\\tfrac{1}{4} \\\\\n",
       "\\tfrac{1}{4} \\\\\n",
       "\\tfrac{1}{4} \\\\\n",
       "\\tfrac{1}{4} \\\\\n",
       "\\tfrac{1}{4} \\\\\n",
       "\\tfrac{1}{4}\n",
       "\\end{bmatrix}\n",
       "$"
      ],
      "text/plain": [
       "<IPython.core.display.Math object>"
      ]
     },
     "metadata": {},
     "output_type": "display_data"
    }
   ],
   "source": [
    "qobj = assemble(qc)\n",
    "final_state = statevector_simulator.run(qobj).result().get_statevector()\n",
    "array_to_latex(final_state)"
   ]
  },
  {
   "cell_type": "markdown",
   "metadata": {},
   "source": [
    "## 2) Phase Inversion"
   ]
  },
  {
   "cell_type": "code",
   "execution_count": 21,
   "metadata": {},
   "outputs": [],
   "source": [
    "def Grover_Step_I(n, indices_of_marked_elements, r=0):\n",
    "    \n",
    "    # Create a quantum circuit on n qubits\n",
    "    qc = QuantumCircuit(n)\n",
    "    \n",
    "    # Determine r\n",
    "    if r == 0:\n",
    "        r = int(np.floor(np.pi/4*np.sqrt(2**n/len(indices_of_marked_elements))))\n",
    "        print(f'{n} qubits, basis states {indices_of_marked_elements} marked, {r} rounds')\n",
    "    \n",
    "    # step 1: apply Hadamard gates on all qubits\n",
    "    qc.h(range(n))\n",
    "    \n",
    "    # step 2: apply r rounds of the phase oracle and the diffuser\n",
    "    for _ in range(r):\n",
    "        qc.append(phase_oracle(n, indices_of_marked_elements), range(n))\n",
    "        #qc.append(diffuser(n), range(n))\n",
    "        \n",
    "    # step 3: measure all qubits\n",
    "    #qc.measure(range(n), range(n))\n",
    "  \n",
    "    return qc"
   ]
  },
  {
   "cell_type": "code",
   "execution_count": 22,
   "metadata": {},
   "outputs": [
    {
     "data": {
      "text/html": [
       "<pre style=\"word-wrap: normal;white-space: pre;background: #fff0;line-height: 1.1;font-family: &quot;Courier New&quot;,Courier,monospace\">     ┌───┐┌─────────┐\n",
       "q_0: ┤ H ├┤0        ├\n",
       "     ├───┤│         │\n",
       "q_1: ┤ H ├┤1        ├\n",
       "     ├───┤│  Oracle │\n",
       "q_2: ┤ H ├┤2        ├\n",
       "     ├───┤│         │\n",
       "q_3: ┤ H ├┤3        ├\n",
       "     └───┘└─────────┘</pre>"
      ],
      "text/plain": [
       "     ┌───┐┌─────────┐\n",
       "q_0: ┤ H ├┤0        ├\n",
       "     ├───┤│         │\n",
       "q_1: ┤ H ├┤1        ├\n",
       "     ├───┤│  Oracle │\n",
       "q_2: ┤ H ├┤2        ├\n",
       "     ├───┤│         │\n",
       "q_3: ┤ H ├┤3        ├\n",
       "     └───┘└─────────┘"
      ]
     },
     "execution_count": 22,
     "metadata": {},
     "output_type": "execute_result"
    }
   ],
   "source": [
    "qc = Grover_Step_I(n, indices_of_marked_elements, 1)\n",
    "qc.draw()"
   ]
  },
  {
   "cell_type": "code",
   "execution_count": 23,
   "metadata": {},
   "outputs": [
    {
     "data": {
      "text/html": [
       "<pre style=\"word-wrap: normal;white-space: pre;background: #fff0;line-height: 1.1;font-family: &quot;Courier New&quot;,Courier,monospace\">     ┌───┐┌──────────┐\n",
       "q_0: ┤ H ├┤0         ├\n",
       "     ├───┤│          │\n",
       "q_1: ┤ H ├┤1         ├\n",
       "     ├───┤│  unitary │\n",
       "q_2: ┤ H ├┤2         ├\n",
       "     ├───┤│          │\n",
       "q_3: ┤ H ├┤3         ├\n",
       "     └───┘└──────────┘</pre>"
      ],
      "text/plain": [
       "     ┌───┐┌──────────┐\n",
       "q_0: ┤ H ├┤0         ├\n",
       "     ├───┤│          │\n",
       "q_1: ┤ H ├┤1         ├\n",
       "     ├───┤│  unitary │\n",
       "q_2: ┤ H ├┤2         ├\n",
       "     ├───┤│          │\n",
       "q_3: ┤ H ├┤3         ├\n",
       "     └───┘└──────────┘"
      ]
     },
     "execution_count": 23,
     "metadata": {},
     "output_type": "execute_result"
    }
   ],
   "source": [
    "transpiled_qc = transpile(qc, qasm_simulator)\n",
    "transpiled_qc.draw()"
   ]
  },
  {
   "cell_type": "code",
   "execution_count": 24,
   "metadata": {},
   "outputs": [
    {
     "data": {
      "text/latex": [
       "$\\displaystyle \n",
       "\\begin{bmatrix}\n",
       "\\tfrac{1}{4} \\\\\n",
       "-\\tfrac{1}{4} \\\\\n",
       "\\tfrac{1}{4} \\\\\n",
       "\\tfrac{1}{4} \\\\\n",
       "\\tfrac{1}{4} \\\\\n",
       "\\tfrac{1}{4} \\\\\n",
       "\\tfrac{1}{4} \\\\\n",
       "\\tfrac{1}{4} \\\\\n",
       "\\tfrac{1}{4} \\\\\n",
       "\\tfrac{1}{4} \\\\\n",
       "\\tfrac{1}{4} \\\\\n",
       "\\tfrac{1}{4} \\\\\n",
       "\\tfrac{1}{4} \\\\\n",
       "\\tfrac{1}{4} \\\\\n",
       "\\tfrac{1}{4} \\\\\n",
       "\\tfrac{1}{4}\n",
       "\\end{bmatrix}\n",
       "$"
      ],
      "text/plain": [
       "<IPython.core.display.Math object>"
      ]
     },
     "metadata": {},
     "output_type": "display_data"
    }
   ],
   "source": [
    "qobj = assemble(transpiled_qc)\n",
    "final_state = statevector_simulator.run(qobj).result().get_statevector()\n",
    "array_to_latex(final_state)"
   ]
  },
  {
   "cell_type": "markdown",
   "metadata": {},
   "source": [
    "## 3) Amplitude Amplification"
   ]
  },
  {
   "cell_type": "code",
   "execution_count": 25,
   "metadata": {},
   "outputs": [],
   "source": [
    "def Grover_Step_II(n, indices_of_marked_elements, r=0):\n",
    "    \n",
    "    # Create a quantum circuit on n qubits\n",
    "    qc = QuantumCircuit(n)\n",
    "    \n",
    "    # Determine r\n",
    "    if r == 0:\n",
    "        r = int(np.floor(np.pi/4*np.sqrt(2**n/len(indices_of_marked_elements))))\n",
    "        print(f'{n} qubits, basis states {indices_of_marked_elements} marked, {r} rounds')\n",
    "    \n",
    "    # step 1: apply Hadamard gates on all qubits\n",
    "    qc.h(range(n))\n",
    "    \n",
    "    # step 2: apply r rounds of the phase oracle and the diffuser\n",
    "    for _ in range(r):\n",
    "        qc.append(phase_oracle(n, indices_of_marked_elements), range(n))\n",
    "        qc.append(diffuser(n), range(n))\n",
    "        \n",
    "    # step 3: measure all qubits\n",
    "    #qc.measure(range(n), range(n))\n",
    "  \n",
    "    return qc"
   ]
  },
  {
   "cell_type": "code",
   "execution_count": 26,
   "metadata": {},
   "outputs": [
    {
     "data": {
      "text/html": [
       "<pre style=\"word-wrap: normal;white-space: pre;background: #fff0;line-height: 1.1;font-family: &quot;Courier New&quot;,Courier,monospace\">     ┌───┐┌─────────┐┌───────────┐\n",
       "q_0: ┤ H ├┤0        ├┤0          ├\n",
       "     ├───┤│         ││           │\n",
       "q_1: ┤ H ├┤1        ├┤1          ├\n",
       "     ├───┤│  Oracle ││  Diffuser │\n",
       "q_2: ┤ H ├┤2        ├┤2          ├\n",
       "     ├───┤│         ││           │\n",
       "q_3: ┤ H ├┤3        ├┤3          ├\n",
       "     └───┘└─────────┘└───────────┘</pre>"
      ],
      "text/plain": [
       "     ┌───┐┌─────────┐┌───────────┐\n",
       "q_0: ┤ H ├┤0        ├┤0          ├\n",
       "     ├───┤│         ││           │\n",
       "q_1: ┤ H ├┤1        ├┤1          ├\n",
       "     ├───┤│  Oracle ││  Diffuser │\n",
       "q_2: ┤ H ├┤2        ├┤2          ├\n",
       "     ├───┤│         ││           │\n",
       "q_3: ┤ H ├┤3        ├┤3          ├\n",
       "     └───┘└─────────┘└───────────┘"
      ]
     },
     "execution_count": 26,
     "metadata": {},
     "output_type": "execute_result"
    }
   ],
   "source": [
    "qc = Grover_Step_II(n, indices_of_marked_elements, 1)\n",
    "qc.draw()"
   ]
  },
  {
   "cell_type": "code",
   "execution_count": 27,
   "metadata": {},
   "outputs": [
    {
     "data": {
      "text/html": [
       "<pre style=\"word-wrap: normal;white-space: pre;background: #fff0;line-height: 1.1;font-family: &quot;Courier New&quot;,Courier,monospace\">     ┌───┐┌──────────┐┌───┐┌──────────┐┌───┐\n",
       "q_0: ┤ H ├┤0         ├┤ H ├┤0         ├┤ H ├\n",
       "     ├───┤│          │├───┤│          │├───┤\n",
       "q_1: ┤ H ├┤1         ├┤ H ├┤1         ├┤ H ├\n",
       "     ├───┤│  unitary │├───┤│  unitary │├───┤\n",
       "q_2: ┤ H ├┤2         ├┤ H ├┤2         ├┤ H ├\n",
       "     ├───┤│          │├───┤│          │├───┤\n",
       "q_3: ┤ H ├┤3         ├┤ H ├┤3         ├┤ H ├\n",
       "     └───┘└──────────┘└───┘└──────────┘└───┘</pre>"
      ],
      "text/plain": [
       "     ┌───┐┌──────────┐┌───┐┌──────────┐┌───┐\n",
       "q_0: ┤ H ├┤0         ├┤ H ├┤0         ├┤ H ├\n",
       "     ├───┤│          │├───┤│          │├───┤\n",
       "q_1: ┤ H ├┤1         ├┤ H ├┤1         ├┤ H ├\n",
       "     ├───┤│  unitary │├───┤│  unitary │├───┤\n",
       "q_2: ┤ H ├┤2         ├┤ H ├┤2         ├┤ H ├\n",
       "     ├───┤│          │├───┤│          │├───┤\n",
       "q_3: ┤ H ├┤3         ├┤ H ├┤3         ├┤ H ├\n",
       "     └───┘└──────────┘└───┘└──────────┘└───┘"
      ]
     },
     "execution_count": 27,
     "metadata": {},
     "output_type": "execute_result"
    }
   ],
   "source": [
    "transpiled_qc = transpile(qc, qasm_simulator)\n",
    "transpiled_qc.draw()"
   ]
  },
  {
   "cell_type": "code",
   "execution_count": 28,
   "metadata": {},
   "outputs": [
    {
     "data": {
      "text/latex": [
       "$\\displaystyle \n",
       "\\begin{bmatrix}\n",
       "-\\tfrac{3}{16} \\\\\n",
       "-\\tfrac{11}{16} \\\\\n",
       "-\\tfrac{3}{16} \\\\\n",
       "-\\tfrac{3}{16} \\\\\n",
       "-\\tfrac{3}{16} \\\\\n",
       "-\\tfrac{3}{16} \\\\\n",
       "-\\tfrac{3}{16} \\\\\n",
       "-\\tfrac{3}{16} \\\\\n",
       "-\\tfrac{3}{16} \\\\\n",
       "-\\tfrac{3}{16} \\\\\n",
       "-\\tfrac{3}{16} \\\\\n",
       "-\\tfrac{3}{16} \\\\\n",
       "-\\tfrac{3}{16} \\\\\n",
       "-\\tfrac{3}{16} \\\\\n",
       "-\\tfrac{3}{16} \\\\\n",
       "-\\tfrac{3}{16}\n",
       "\\end{bmatrix}\n",
       "$"
      ],
      "text/plain": [
       "<IPython.core.display.Math object>"
      ]
     },
     "metadata": {},
     "output_type": "display_data"
    }
   ],
   "source": [
    "qobj = assemble(transpiled_qc)\n",
    "final_state = statevector_simulator.run(qobj).result().get_statevector()\n",
    "array_to_latex(final_state)"
   ]
  },
  {
   "cell_type": "code",
   "execution_count": null,
   "metadata": {},
   "outputs": [],
   "source": []
  }
 ],
 "metadata": {
  "kernelspec": {
   "display_name": "Python 3",
   "language": "python",
   "name": "python3"
  },
  "language_info": {
   "codemirror_mode": {
    "name": "ipython",
    "version": 3
   },
   "file_extension": ".py",
   "mimetype": "text/x-python",
   "name": "python",
   "nbconvert_exporter": "python",
   "pygments_lexer": "ipython3",
   "version": "3.8.5"
  }
 },
 "nbformat": 4,
 "nbformat_minor": 4
}
